{
 "cells": [
  {
   "cell_type": "markdown",
   "metadata": {},
   "source": [
    "## LangGraph\n",
    "\n"
   ]
  },
  {
   "cell_type": "code",
   "execution_count": 1,
   "metadata": {},
   "outputs": [
    {
     "data": {
      "text/plain": [
       "True"
      ]
     },
     "execution_count": 1,
     "metadata": {},
     "output_type": "execute_result"
    }
   ],
   "source": [
    "# 환경 변수 \n",
    "from dotenv import load_dotenv\n",
    "load_dotenv()"
   ]
  },
  {
   "cell_type": "code",
   "execution_count": 3,
   "metadata": {},
   "outputs": [],
   "source": [
    "!pip install -q langchain_community\n",
    "# !pip install -q langchain-ollama\n",
    "!pip install -q langgraph\n",
    "!pip install -q langchain-anthropic\n",
    "\n"
   ]
  },
  {
   "cell_type": "code",
   "execution_count": 7,
   "metadata": {},
   "outputs": [
    {
     "name": "stdout",
     "output_type": "stream",
     "text": [
      "Name: llama3.2-vision:latest\n",
      "Name: EEVE-Korean-Q5_K_M:latest\n",
      "Name: llama3.2:latest\n"
     ]
    }
   ],
   "source": [
    "from ollama import list\n",
    "from ollama import ListResponse\n",
    "\n",
    "response: ListResponse = list()\n",
    "\n",
    "for model in response.models:\n",
    "  print('Name:', model.model)"
   ]
  },
  {
   "cell_type": "code",
   "execution_count": 6,
   "metadata": {},
   "outputs": [],
   "source": [
    "model_name = \"llama3.2\""
   ]
  },
  {
   "cell_type": "code",
   "execution_count": 4,
   "metadata": {},
   "outputs": [
    {
     "name": "stdout",
     "output_type": "stream",
     "text": [
      "[HumanMessage(content='안녕하222세요?', additional_kwargs={}, response_metadata={}, id='1'), AIMessage(content='반갑습니다~', additional_kwargs={}, response_metadata={}, id='2')]\n"
     ]
    }
   ],
   "source": [
    "## test add_messages\n",
    "\n",
    "from langchain_core.messages import AIMessage, HumanMessage\n",
    "from langgraph.graph import add_messages\n",
    "\n",
    "# 기본 사용 예시\n",
    "msgs1 = [HumanMessage(content=\"안녕하세요?\", id=\"1\")]\n",
    "msgs2 = [AIMessage(content=\"반갑습니다~\", id=\"2\")]\n",
    "msgs3 = [HumanMessage(content=\"안녕하222세요?\", id=\"1\")]\n",
    "result1 = add_messages(msgs1, msgs2)\n",
    "result2 = add_messages(result1, msgs3)\n",
    "print(result2)"
   ]
  },
  {
   "cell_type": "code",
   "execution_count": 8,
   "metadata": {},
   "outputs": [],
   "source": [
    "from langchain_ollama.llms import OllamaLLM\n",
    "\n",
    "llm = OllamaLLM(model=model_name)"
   ]
  },
  {
   "cell_type": "code",
   "execution_count": 9,
   "metadata": {},
   "outputs": [],
   "source": [
    "from langchain_core.prompts import ChatPromptTemplate\n",
    "\n",
    "\n",
    "template = \"\"\"Question: {question}\n",
    "\n",
    "Answer: Let's think step by step.\"\"\"\n",
    "\n",
    "prompt = ChatPromptTemplate.from_template(template)\n",
    "\n",
    "chain = prompt | llm\n"
   ]
  },
  {
   "cell_type": "code",
   "execution_count": 10,
   "metadata": {},
   "outputs": [
    {
     "data": {
      "text/plain": [
       "'1. First, let\\'s understand that \"LangChain\" might be a misspelling of \"Langchain,\" which is not a known term or concept on its own. However, there is another concept called \"Language Chain (LangChain),\" which may be what you are looking for.\\n\\n2. The Language Chain, also known as the Language Understanding and Information Retrieval Engine (LUIRA) or simply LUIR, is a natural language processing (NLP) engine developed by IBM in the 1980s. It was designed to understand user queries and retrieve relevant information from databases.\\n\\n3. LangChain is an open-source framework that aims to simplify the development of decentralized applications (dApps) using blockchain technology, artificial intelligence (AI), and natural language processing (NLP). It provides a set of pre-built components and tools that can be easily combined and customized to create complex dApps without requiring extensive knowledge of these technologies.\\n\\n4. In summary, if you were asking about the term \"LangChain,\" it could either refer to an unrelated concept or it may have been misspelled as a reference to the Language Chain developed by IBM in the 1980s or the more modern open-source LangChain framework for dApp development using blockchain technology, AI, and NLP.'"
      ]
     },
     "execution_count": 10,
     "metadata": {},
     "output_type": "execute_result"
    }
   ],
   "source": [
    "chain.invoke({\"question\": \"What is LangChain?\"})"
   ]
  },
  {
   "cell_type": "code",
   "execution_count": 40,
   "metadata": {},
   "outputs": [
    {
     "name": "stdout",
     "output_type": "stream",
     "text": [
      "🕒 현재 시간: 2024-11-28 15:09:00\n",
      "--> messages : [SystemMessage(content='answer is korean', additional_kwargs={}, response_metadata={}, id='1'), HumanMessage(content='현재 시간은!', additional_kwargs={}, response_metadata={}, id='2')]\n",
      "--> messages type : <class 'list'>\n",
      "⏳ 실행 시간: 31.65초\n"
     ]
    }
   ],
   "source": [
    "from langchain_core.messages import HumanMessage, SystemMessage\n",
    "\n",
    "messages = [\n",
    "    SystemMessage(\"answer is korean\", id=\"1\"),\n",
    "    HumanMessage(\"현재 시간은!\", id=\"2\"),\n",
    "]\n",
    "print(f\"--> messages : {messages}\")\n",
    "print(f\"--> messages type : {type(messages)}\")\n",
    "response = chain.invoke(messages)\n",
    "\n"
   ]
  },
  {
   "cell_type": "code",
   "execution_count": 41,
   "metadata": {},
   "outputs": [
    {
     "name": "stdout",
     "output_type": "stream",
     "text": [
      "🕒 현재 시간: 2024-11-28 15:09:35\n",
      "Step 1: Understand the context of the question.\n",
      "The given text appears to be a list of message objects, which consists of two messages - one labeled \"SystemMessage\" and another labeled \"HumanMessage.\" These messages are meant for processing by an AI assistant like myself.\n",
      "\n",
      "Step 2: Analyze the content of each message.\n",
      "- SystemMessage(content='answer is korrea', additional_kwargs={}, response_metadata={}, id='1'): This message has the content \"answer is korrea\" and no additional keywords or response metadata. We can assume that it's a question, but it may have some spelling mistakes.\n",
      "- HumanMessage(content='현재 시간은!' additional_kwargs={}, response_metadata={}, id='2'): This message simply states, \"현재 시간은!\" which translates to \"What time is it now?\" in English. It seems like a request for the current time.\n",
      "\n",
      "Step 3: Combine both messages for clarity and provide an answer.\n",
      "Since the first message appears to be a question but has spelling mistakes, we can assume that it's asking about the current time as well. The correct phrase should be \"What is the answer in Korea?\" or simply \"What's the time in Korea?\" Combining both messages, we can provide an answer:\n",
      "\n",
      "Answer: Based on your two messages, I understand you are interested in knowing the current time in Korea. As of now, it is [insert the current time in Korean Standard Time (KST) here].\n",
      "⏳ 실행 시간: 0.00초\n"
     ]
    }
   ],
   "source": [
    "print(response)"
   ]
  },
  {
   "cell_type": "code",
   "execution_count": 20,
   "metadata": {},
   "outputs": [
    {
     "name": "stdout",
     "output_type": "stream",
     "text": [
      "🕒 현재 시간: 2024-11-28 12:28:54\n",
      "⏳ 실행 시간: 0.00초\n"
     ]
    }
   ],
   "source": [
    "from typing import Annotated, Any, List\n",
    "\n",
    "from typing_extensions import TypedDict\n",
    "\n",
    "from langgraph.graph import StateGraph, START, END\n",
    "from langgraph.graph.message import add_messages\n",
    "\n",
    "\n",
    "class TestState(TypedDict):\n",
    "    # Messages have the type \"list\". The `add_messages` function\n",
    "    # in the annotation defines how this state key should be updated\n",
    "    # (in this case, it appends messages to the list, rather than overwriting them)\n",
    "    messages: Annotated[List[Any], add_messages]\n",
    "        #  messages: list\n",
    "\n"
   ]
  },
  {
   "cell_type": "code",
   "execution_count": 42,
   "metadata": {},
   "outputs": [
    {
     "name": "stdout",
     "output_type": "stream",
     "text": [
      "🕒 현재 시간: 2024-11-28 15:11:02\n",
      "⏳ 실행 시간: 0.08초\n"
     ]
    }
   ],
   "source": [
    "from langchain_core.messages import HumanMessage, SystemMessage\n",
    "\n",
    "def chatbot(state: TestState) -> TestState:\n",
    "    # print(f\"--> chatbot : start state: {state}\")\n",
    "    print(f\"--> messages : {type(state['messages'])}\")\n",
    "    print(f\"--> messages : {state['messages']}\")\n",
    "\n",
    "    response = chain.invoke(state['messages'])\n",
    "\n",
    "    print(f\"--> chatbot : after chain.invoke : {response}\")\n",
    "    # Create an AIMessage instead of returning raw response\n",
    "    from langchain_core.messages import AIMessage\n",
    "    return {\"messages\": [AIMessage(content=str(response))]}"
   ]
  },
  {
   "cell_type": "code",
   "execution_count": null,
   "metadata": {},
   "outputs": [],
   "source": [
    "from langchain_core.messages import HumanMessage, SystemMessage\n",
    "\n",
    "def search_wikipedia(state: TestState) -> TestState:\n",
    "    # print(f\"--> chatbot : start state: {state}\")\n",
    "    print(f\"--> messages : {type(state['messages'])}\")\n",
    "    print(f\"--> messages : {state['messages']}\")\n",
    "\n",
    "    response = chain.invoke(state['messages'])\n",
    "\n",
    "    print(f\"--> chatbot : after chain.invoke : {response}\")\n",
    "    # Create an AIMessage instead of returning raw response\n",
    "    from langchain_core.messages import AIMessage\n",
    "    return {\"messages\": [AIMessage(content=str(response))]}"
   ]
  },
  {
   "cell_type": "code",
   "execution_count": 43,
   "metadata": {},
   "outputs": [
    {
     "name": "stdout",
     "output_type": "stream",
     "text": [
      "🕒 현재 시간: 2024-11-28 15:11:04\n"
     ]
    },
    {
     "data": {
      "image/png": "[encoded data removed]",
      "text/plain": [
       "<IPython.core.display.Image object>"
      ]
     },
     "metadata": {},
     "output_type": "display_data"
    },
    {
     "name": "stdout",
     "output_type": "stream",
     "text": [
      "⏳ 실행 시간: 1.00초\n"
     ]
    }
   ],
   "source": [
    "\n",
    "try:\n",
    "    del graph_builder\n",
    "except NameError:\n",
    "    pass\n",
    "graph_builder = StateGraph(TestState)\n",
    "\n",
    "# query -> retrieve_document -> eval document  response\n",
    "graph_builder.add_node(\"chatbot\", chatbot)\n",
    "graph_builder.set_entry_point(\"chatbot\")\n",
    "graph_builder.set_finish_point(\"chatbot\")\n",
    "\n",
    "graph = graph_builder.compile()\n",
    "\n",
    "from IPython.display import Image, display\n",
    "\n",
    "try:\n",
    "    display(Image(graph.get_graph().draw_mermaid_png()))\n",
    "except Exception:\n",
    "    # This requires some extra dependencies and is optional\n",
    "    pass\n"
   ]
  },
  {
   "cell_type": "code",
   "execution_count": 31,
   "metadata": {},
   "outputs": [
    {
     "name": "stdout",
     "output_type": "stream",
     "text": [
      "🕒 현재 시간: 2024-11-28 12:13:56\n"
     ]
    }
   ],
   "source": [
    "# stream_graph_updates 함수는 사용자의 입력을 받아 그래프를 통해 응답을 스트리밍하는 함수입니다\n",
    "def stream_graph_updates(user_input: str):\n",
    "    # graph.stream()을 사용하여 사용자 입력을 그래프에 전달하고 응답을 스트리밍합니다\n",
    "    # {\"messages\": [(\"user\", user_input)]} 형태로 입력을 포맷팅합니다\n",
    "    for event in graph.stream({\"messages\": [(\"user\", user_input)]}):\n",
    "        # 각 이벤트에서 값을 추출하여 출력합니다\n",
    "        for value in event.values():\n",
    "            # Assistant: 프리픽스와 함께 메시지의 마지막 컨텐츠를 출력합니다\n",
    "            print(\"Assistant:\", value[\"messages\"][-1].content)\n",
    "\n",
    "\n",
    "# 메인 대화 루프입니다\n",
    "while True:\n",
    "    try:\n",
    "        # 사용자로부터 입력을 받습니다\n",
    "        user_input = input(\"User: \")\n",
    "        \n",
    "        # 종료 명령어를 확인합니다 (quit, exit, q)\n",
    "        if user_input.lower() in [\"quit\", \"exit\", \"q\"]:\n",
    "            print(\"Goodbye!\")\n",
    "            break\n",
    "\n",
    "        # 사용자 입력을 처리하여 응답을 생성합니다\n",
    "        stream_graph_updates(user_input)\n",
    "    except:\n",
    "        # input() 함수를 사용할 수 없는 경우의 대체 로직입니다\n",
    "        # 기본 질문으로 \"What do you know about LangGraph?\"를 사용합니다\n",
    "        user_input = \"What do you know about LangGraph?\"\n",
    "        print(\"User: \" + user_input)\n",
    "        stream_graph_updates(user_input)\n",
    "        break"
   ]
  },
  {
   "cell_type": "code",
   "execution_count": null,
   "metadata": {},
   "outputs": [],
   "source": [
    "\n",
    "# stream_graph_updates 함수는 사용자의 입력을 받아 그래프를 통해 응답을 스트리밍하는 함수입니다\n",
    "def stream_graph_updates(user_input: str):\n",
    "    # graph.stream()을 사용하여 사용자 입력을 그래프에 전달하고 응답을 스트리밍합니다\n",
    "    # {\"messages\": [(\"user\", user_input)]} 형태로 입력을 포맷팅합니다\n",
    "    for event in graph.stream({\"messages\": [(\"user\", user_input)]}):\n",
    "        # 각 이벤트에서 값을 추출하여 출력합니다\n",
    "        for value in event.values():\n",
    "            # Assistant: 프리픽스와 함께 메시지의 마지막 컨텐츠를 출력합니다\n",
    "            print(\"Assistant:\", value[\"messages\"][-1].content)\n",
    "\n",
    "\n",
    "\n",
    "\n",
    "# 사용자 입력을 처리하여 응답을 생성합니다\n",
    "stream_graph_updates(\"너는 누구야?\")\n",
    "  "
   ]
  },
  {
   "cell_type": "code",
   "execution_count": 35,
   "metadata": {},
   "outputs": [
    {
     "name": "stdout",
     "output_type": "stream",
     "text": [
      "🕒 현재 시간: 2024-11-28 15:05:20\n",
      "--> messages : <class 'list'>\n",
      "--> messages : [HumanMessage(content='현재 시간은?', additional_kwargs={}, response_metadata={}, id='da3b46ed-a651-45d4-a1e2-d64841f2bc5e')]\n",
      "--> chatbot : after llm.invoke : 현재 시간은 다음과 같습니다: [날짜, 시간 포맷팅 규칙에 따라 현재 날짜와 시간을 표시합니다]\n",
      "{'messages': [HumanMessage(content='현재 시간은?', additional_kwargs={}, response_metadata={}, id='da3b46ed-a651-45d4-a1e2-d64841f2bc5e'), AIMessage(content='현재 시간은 다음과 같습니다: [날짜, 시간 포맷팅 규칙에 따라 현재 날짜와 시간을 표시합니다]', additional_kwargs={}, response_metadata={}, id='f7ff2f24-6e70-4b00-abeb-e76ee07443f0')]}\n",
      "⏳ 실행 시간: 15.82초\n"
     ]
    }
   ],
   "source": [
    "from langchain_core.runnables import RunnableConfig\n",
    "\n",
    "config = RunnableConfig(recursion_limit=10)\n",
    "\n",
    "inputs = State(messages=\"현재 시간은?\")\n",
    "outputs = graph.invoke(inputs, config)\n",
    "\n",
    "print(outputs)"
   ]
  }
 ],
 "metadata": {
  "kernelspec": {
   "display_name": ".venv",
   "language": "python",
   "name": "python3"
  },
  "language_info": {
   "codemirror_mode": {
    "name": "ipython",
    "version": 3
   },
   "file_extension": ".py",
   "mimetype": "text/x-python",
   "name": "python",
   "nbconvert_exporter": "python",
   "pygments_lexer": "ipython3",
   "version": "3.12.7"
  }
 },
 "nbformat": 4,
 "nbformat_minor": 2
}
