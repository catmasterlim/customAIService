{
 "cells": [
  {
   "cell_type": "markdown",
   "metadata": {},
   "source": [
    "## LangGraph\n",
    "\n"
   ]
  },
  {
   "cell_type": "code",
   "execution_count": 1,
   "metadata": {},
   "outputs": [
    {
     "name": "stdout",
     "output_type": "stream",
     "text": [
      "🕒 현재 시간: 2024-12-10 17:58:04\n",
      "⏳ 실행 시간: 20.19초\n"
     ]
    }
   ],
   "source": [
    "!pip install -q langchain_community\n",
    "!pip install -q langchain-ollama\n",
    "!pip install -q langgraph langsmith \n",
    "!pip install -q tavily-python\n",
    "\n",
    "!pip install -q streamlit-chat\n",
    "!pip install -q faiss-cpu\n"
   ]
  },
  {
   "cell_type": "code",
   "execution_count": 35,
   "metadata": {},
   "outputs": [
    {
     "name": "stdout",
     "output_type": "stream",
     "text": [
      "🕒 현재 시간: 2024-12-09 13:12:31\n",
      "--> TAVILY_API_KEY_4 : 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\n",
      "[{'url': 'https://www.geeksforgeeks.org/introduction-to-langchain/', 'content': 'Data Structures and Algorithms\\nML & Data Science\\nWeb Development\\nLanguages\\nInterview Corner\\nCS Subjects\\nJobs\\nPractice\\nContests\\nIntroduction to Langchain\\nLangChain is an open-source framework designed to simplify the creation of applications using large language models (LLMs). LangChain follows a general pipeline where a user asks a question to the language model where the vector representation of the question is used to do a similarity search in the vector database and the relevant information is fetched from the vector database and the response is later fed to the language model. LangChain Key Concepts:\\nThe main properties of LangChain Framework are :\\nSetting up the environment\\nInstallation of langchain is very simple and similar as you install other libraries using the pip command.\\n Next, we create a .env file and store our API key in it as follows:\\nPython\\nNow, I am creating a new file named ‘lang.py’ where I will be using the LangChain framework to generate responses. We start by importing long-chain and initializing an LLM as follows:\\nPython\\nWe are initializing it with a high temperature which means that the results will be random and less accurate.'}, {'url': 'https://python.langchain.com/docs/introduction/', 'content': \"How to use tools in a chain How to migrate from legacy LangChain agents to LangGraph How to use chat models to call tools LangChain is a framework for developing applications powered by large language models (LLMs). Development: Build your applications using LangChain's open-source building blocks, components, and third-party integrations. langchain: Chains, agents, and retrieval strategies that make up an application's cognitive architecture. LangServe: Deploy LangChain chains as REST APIs. LangSmith: A developer platform that lets you debug, test, evaluate, and monitor LLM applications. Build stateful, multi-actor applications with LLMs. Integrates smoothly with LangChain, but can be used without it. LangChain is part of a rich ecosystem of tools that integrate with our framework and build on top of it.\"}]\n",
      "⏳ 실행 시간: 2.48초\n"
     ]
    }
   ],
   "source": [
    "# 환경 변수 \n",
    "from dotenv import load_dotenv\n",
    "load_dotenv(override=True)\n",
    "\n",
    "\n",
    "from langchain_community.retrievers import TavilySearchAPIRetriever\n",
    "from langchain_community.tools.tavily_search import TavilySearchResults\n",
    "\n",
    "import os\n",
    "import random\n",
    "def get_tavily_api_key() -> str:\n",
    "    random_number = random.randint(1, 7)\n",
    "    # random_number = 7\n",
    "    print(f\"--> TAVILY_API_KEY_{random_number}\")\n",
    "    return os.getenv(f\"TAVILY_API_KEY_{random_number}\")\n",
    "\n",
    "def get_tavily_retriever() -> TavilySearchAPIRetriever:\n",
    "    os.environ[\"TAVILY_API_KEY\"] = get_tavily_api_key()    \n",
    "    return TavilySearchAPIRetriever(k=2, api_key=get_tavily_api_key())\n",
    "\n",
    "def get_tavily_search_results() -> TavilySearchResults:    \n",
    "    os.environ[\"TAVILY_API_KEY\"] = get_tavily_api_key()\n",
    "    return TavilySearchResults(max_results=2)\n",
    "\n",
    "\n",
    "\n",
    "# result = get_tavily_search_results().invoke({'query':\"What is LangChain?\"})\n",
    "# print(result)\n"
   ]
  },
  {
   "cell_type": "code",
   "execution_count": 3,
   "metadata": {},
   "outputs": [
    {
     "name": "stdout",
     "output_type": "stream",
     "text": [
      "🕒 현재 시간: 2024-12-09 11:47:27\n",
      "Name: llama3.2:latest\n",
      "Name: llama3.2-vision:latest\n",
      "Name: EEVE-Korean-Q5_K_M:latest\n",
      "⏳ 실행 시간: 0.09초\n"
     ]
    }
   ],
   "source": [
    "from ollama import list\n",
    "from ollama import ListResponse\n",
    "\n",
    "response: ListResponse = list()\n",
    "\n",
    "for model in response.models:\n",
    "  print('Name:', model.model)"
   ]
  },
  {
   "cell_type": "code",
   "execution_count": 4,
   "metadata": {},
   "outputs": [
    {
     "name": "stdout",
     "output_type": "stream",
     "text": [
      "🕒 현재 시간: 2024-12-09 11:47:29\n",
      "⏳ 실행 시간: 0.00초\n"
     ]
    }
   ],
   "source": [
    "model_name = \"llama3.2\""
   ]
  },
  {
   "cell_type": "code",
   "execution_count": 8,
   "metadata": {},
   "outputs": [
    {
     "name": "stdout",
     "output_type": "stream",
     "text": [
      "🕒 현재 시간: 2024-12-09 11:52:30\n",
      "[HumanMessage(content='안녕하222세요?', additional_kwargs={}, response_metadata={}, id='1'), AIMessage(content='반갑습니다~', additional_kwargs={}, response_metadata={}, id='2')]\n",
      "⏳ 실행 시간: 0.03초\n"
     ]
    }
   ],
   "source": [
    "## test add_messages\n",
    "\n",
    "from langchain_core.messages import AIMessage, HumanMessage\n",
    "from langgraph.graph import add_messages\n",
    "\n",
    "# 기본 사용 예시\n",
    "msgs1 = [HumanMessage(content=\"안녕하세요?\", id=\"1\")]\n",
    "msgs2 = [AIMessage(content=\"반갑습니다~\", id=\"2\")]\n",
    "msgs3 = [HumanMessage(content=\"안녕하222세요?\", id=\"1\")]\n",
    "result1 = add_messages(msgs1, msgs2)\n",
    "result2 = add_messages(result1, msgs3)\n",
    "print(result2)"
   ]
  },
  {
   "cell_type": "code",
   "execution_count": null,
   "metadata": {},
   "outputs": [],
   "source": [
    "from langchain_ollama.llms import OllamaLLM\n",
    "from langchain_ollama.chat_models import ChatOllama\n",
    "\n",
    "# llm = OllamaLLM(model=model_name)\n",
    "llm = ChatOllama(model=model_name)\n"
   ]
  },
  {
   "cell_type": "code",
   "execution_count": 11,
   "metadata": {},
   "outputs": [
    {
     "name": "stdout",
     "output_type": "stream",
     "text": [
      "🕒 현재 시간: 2024-12-09 11:53:16\n",
      "⏳ 실행 시간: 0.00초\n"
     ]
    }
   ],
   "source": [
    "from langchain_core.prompts import ChatPromptTemplate\n",
    "\n",
    "\n",
    "template = \"\"\"Question: {question}\n",
    "\n",
    "Answer: Let's think step by step.\"\"\"\n",
    "\n",
    "prompt = ChatPromptTemplate.from_template(template)\n",
    "\n",
    "\n",
    "chain = prompt | llm\n"
   ]
  },
  {
   "cell_type": "code",
   "execution_count": 12,
   "metadata": {},
   "outputs": [
    {
     "name": "stdout",
     "output_type": "stream",
     "text": [
      "🕒 현재 시간: 2024-12-09 11:53:18\n"
     ]
    },
    {
     "data": {
      "text/plain": [
       "AIMessage(content=\"LangChain is an open-source project that aims to simplify interoperability between blockchain networks and traditional software applications. Here's a breakdown of what it does:\\n\\n1. **Layering**: LangChain introduces the concept of layering, where blockchain-specific functionality is integrated into existing software layers, making it easier for developers to incorporate blockchain capabilities into their projects.\\n\\n2. **Web3 Integration**: It provides an interface for interacting with Web3 applications (e.g., Ethers.js), allowing developers to access and manipulate blockchain data, perform transactions, and more within the context of their existing applications.\\n\\n3. **Decentralized Data Storage**: LangChain enables decentralized storage solutions like IPFS (InterPlanetary File System) or Swarm, which can be used for storing and retrieving data in a secure and decentralized manner.\\n\\n4. **Blockchain Network Agnostic**: It allows developers to easily switch between different blockchain networks without having to rewrite their code, making it easier to experiment with different networks and find the best fit for their project's needs.\\n\\n5. **High-Level Abstractions**: LangChain provides high-level abstractions for common blockchain-related tasks, such as token management, smart contract interactions, and more, making it easier for developers to build blockchain-enabled applications without having to delve into low-level details of blockchain protocols.\\n\\nBy simplifying the integration of blockchain capabilities into traditional software applications, LangChain aims to make blockchain development more accessible and user-friendly.\", additional_kwargs={}, response_metadata={'model': 'llama3.2', 'created_at': '2024-12-09T02:53:28.106953433Z', 'done': True, 'done_reason': 'stop', 'total_duration': 9018536368, 'load_duration': 4763800118, 'prompt_eval_count': 41, 'prompt_eval_duration': 383000000, 'eval_count': 286, 'eval_duration': 3869000000, 'message': Message(role='assistant', content='', images=None, tool_calls=None)}, id='run-2ae80a31-1e5b-4706-92be-b58c1b3366c1-0', usage_metadata={'input_tokens': 41, 'output_tokens': 286, 'total_tokens': 327})"
      ]
     },
     "execution_count": 12,
     "metadata": {},
     "output_type": "execute_result"
    },
    {
     "name": "stdout",
     "output_type": "stream",
     "text": [
      "⏳ 실행 시간: 9.26초\n"
     ]
    }
   ],
   "source": [
    "chain.invoke({\"question\": \"What is LangChain?\"})"
   ]
  },
  {
   "cell_type": "code",
   "execution_count": 11,
   "metadata": {},
   "outputs": [
    {
     "name": "stdout",
     "output_type": "stream",
     "text": [
      "🕒 현재 시간: 2024-12-09 10:58:44\n",
      "--> messages : [SystemMessage(content='answer is korean', additional_kwargs={}, response_metadata={}, id='1'), HumanMessage(content='현재 시간은!', additional_kwargs={}, response_metadata={}, id='2')]\n",
      "--> messages type : <class 'list'>\n",
      "⏳ 실행 시간: 2.41초\n"
     ]
    }
   ],
   "source": [
    "from langchain_core.messages import HumanMessage, SystemMessage\n",
    "\n",
    "messages = [\n",
    "    SystemMessage(\"answer is korean\", id=\"1\"),\n",
    "    HumanMessage(\"현재 시간은!\", id=\"2\"),\n",
    "]\n",
    "print(f\"--> messages : {messages}\")\n",
    "print(f\"--> messages type : {type(messages)}\")\n",
    "response = chain.invoke(messages)\n",
    "\n"
   ]
  },
  {
   "cell_type": "code",
   "execution_count": 41,
   "metadata": {},
   "outputs": [
    {
     "name": "stdout",
     "output_type": "stream",
     "text": [
      "🕒 현재 시간: 2024-11-28 15:09:35\n",
      "Step 1: Understand the context of the question.\n",
      "The given text appears to be a list of message objects, which consists of two messages - one labeled \"SystemMessage\" and another labeled \"HumanMessage.\" These messages are meant for processing by an AI assistant like myself.\n",
      "\n",
      "Step 2: Analyze the content of each message.\n",
      "- SystemMessage(content='answer is korrea', additional_kwargs={}, response_metadata={}, id='1'): This message has the content \"answer is korrea\" and no additional keywords or response metadata. We can assume that it's a question, but it may have some spelling mistakes.\n",
      "- HumanMessage(content='현재 시간은!' additional_kwargs={}, response_metadata={}, id='2'): This message simply states, \"현재 시간은!\" which translates to \"What time is it now?\" in English. It seems like a request for the current time.\n",
      "\n",
      "Step 3: Combine both messages for clarity and provide an answer.\n",
      "Since the first message appears to be a question but has spelling mistakes, we can assume that it's asking about the current time as well. The correct phrase should be \"What is the answer in Korea?\" or simply \"What's the time in Korea?\" Combining both messages, we can provide an answer:\n",
      "\n",
      "Answer: Based on your two messages, I understand you are interested in knowing the current time in Korea. As of now, it is [insert the current time in Korean Standard Time (KST) here].\n",
      "⏳ 실행 시간: 0.00초\n"
     ]
    }
   ],
   "source": [
    "print(response)"
   ]
  },
  {
   "cell_type": "code",
   "execution_count": 13,
   "metadata": {},
   "outputs": [
    {
     "name": "stdout",
     "output_type": "stream",
     "text": [
      "🕒 현재 시간: 2024-12-09 11:53:39\n",
      "⏳ 실행 시간: 0.00초\n"
     ]
    }
   ],
   "source": [
    "from typing import Annotated, Any, List\n",
    "\n",
    "from typing_extensions import TypedDict\n",
    "\n",
    "from langgraph.graph import StateGraph, START, END\n",
    "from langgraph.graph.message import add_messages\n",
    "\n",
    "\n",
    "class TestState(TypedDict):\n",
    "    # Messages have the type \"list\". The `add_messages` function\n",
    "    # in the annotation defines how this state key should be updated\n",
    "    # (in this case, it appends messages to the list, rather than overwriting them)\n",
    "    messages: Annotated[List[Any], add_messages]\n",
    "        #  messages: list\n",
    "\n"
   ]
  },
  {
   "cell_type": "code",
   "execution_count": 49,
   "metadata": {},
   "outputs": [
    {
     "name": "stdout",
     "output_type": "stream",
     "text": [
      "🕒 현재 시간: 2024-12-09 13:24:57\n",
      "⏳ 실행 시간: 0.00초\n"
     ]
    }
   ],
   "source": [
    "from langchain_core.messages import HumanMessage, SystemMessage\n",
    "\n",
    "\n",
    "\n",
    "def chatbot(state: TestState) -> TestState:\n",
    "    # print(f\"--> chatbot : start state: {state}\")\n",
    "    print(f\"--> chatbot messages : {type(state['messages'])}\")\n",
    "    print(f\"--> chatbotmessages : {state['messages']}\")\n",
    "    tools = [get_tavily_search_results()]\n",
    "    llm_with_tools = llm.bind_tools(tools)\n",
    "    # response = llm_with_tools.invoke(state['messages'])\n",
    "\n",
    "    # print(f\"--> chatbot : after chain.invoke : {response}\")\n",
    "    # # Create an AIMessage instead of returning raw response\n",
    "    # from langchain_core.messages import AIMessage\n",
    "    return {\"messages\": [llm_with_tools.invoke(state[\"messages\"])]}"
   ]
  },
  {
   "cell_type": "code",
   "execution_count": 22,
   "metadata": {},
   "outputs": [
    {
     "name": "stdout",
     "output_type": "stream",
     "text": [
      "🕒 현재 시간: 2024-12-09 12:00:07\n",
      "⏳ 실행 시간: 0.00초\n"
     ]
    }
   ],
   "source": [
    "import json\n",
    "from langchain_core.messages import HumanMessage, SystemMessage, ToolMessage\n",
    "from langchain_core.tools import BaseTool\n",
    "\n",
    "\n",
    "class BasicToolNode:\n",
    "    \"\"\"A Node that runs requested in the last AI message\"\"\"\n",
    "\n",
    "    def __init__(self, tools: List[BaseTool]):\n",
    "        self.tools_by_name = {tool.name: tool for tool in tools}\n",
    "\n",
    "    def __call__(self, inputs:dict):\n",
    "        if messages := inputs.get(\"messages\", []):\n",
    "            messages = messages[-1]\n",
    "        else:\n",
    "            raise ValueError(\"No messages found in inputs\")\n",
    "        \n",
    "        output = []\n",
    "        for tool_call in messages.tool_calls:\n",
    "            tool_result = self.tools_by_name[tool_call[\"name\"]].invoke(\n",
    "                tool_call[\"args\"]\n",
    "                )\n",
    "            output.append(ToolMessage(\n",
    "                content=json.dumps(tool_result),\n",
    "                name=tool_call[\"name\"],\n",
    "                tool_call_id=tool_call[\"id\"],\n",
    "                )\n",
    "            )\n",
    "        return {\"messages\": output}\n",
    "    \n",
    "tool_node = BasicToolNode([get_tavily_search_results()])\n",
    "\n",
    "        "
   ]
  },
  {
   "cell_type": "code",
   "execution_count": null,
   "metadata": {},
   "outputs": [],
   "source": [
    "from langchain_core.messages import HumanMessage, SystemMessage\n",
    "\n",
    "def search_wikipedia(state: TestState) -> TestState:\n",
    "    # print(f\"--> chatbot : start state: {state}\")\n",
    "    print(f\"--> messages : {type(state['messages'])}\")\n",
    "    print(f\"--> messages : {state['messages']}\")\n",
    "\n",
    "    response = chain.invoke(state['messages'])\n",
    "\n",
    "    print(f\"--> chatbot : after chain.invoke : {response}\")\n",
    "    # Create an AIMessage instead of returning raw response\n",
    "    from langchain_core.messages import AIMessage\n",
    "    return {\"messages\": [AIMessage(content=str(response))]}"
   ]
  },
  {
   "cell_type": "code",
   "execution_count": 54,
   "metadata": {},
   "outputs": [
    {
     "name": "stdout",
     "output_type": "stream",
     "text": [
      "🕒 현재 시간: 2024-12-09 13:46:59\n"
     ]
    },
    {
     "data": {
      "image/png": "[encoded data removed]",
      "text/plain": [
       "<IPython.core.display.Image object>"
      ]
     },
     "metadata": {},
     "output_type": "display_data"
    },
    {
     "name": "stdout",
     "output_type": "stream",
     "text": [
      "⏳ 실행 시간: 1.12초\n"
     ]
    }
   ],
   "source": [
    "\n",
    "try:\n",
    "    del graph_builder\n",
    "except NameError:\n",
    "    pass\n",
    "\n",
    "def route_tools(state: TestState):\n",
    "    if isinstance(state, List):\n",
    "        ai_message = state[-1]\n",
    "    elif messages := state.get(\"messages\"):\n",
    "        ai_message = messages[-1]\n",
    "    else:\n",
    "        raise ValueError(f\"No messages found in state: {state}\")\n",
    "    \n",
    "    print(f\"--> ai_message : {ai_message}\")\n",
    "\n",
    "    if hasattr(ai_message, \"tool_calls\") and len(ai_message.tool_calls) > 0:\n",
    "        return \"tools\"\n",
    "    \n",
    "    return END\n",
    "    \n",
    "graph_builder = StateGraph(TestState)\n",
    "\n",
    "# query -> retrieve_document -> eval document  response\n",
    "graph_builder.set_entry_point(\"chatbot\")\n",
    "# graph_builder.set_finish_point(\"chatbot\")\n",
    "\n",
    "graph_builder.add_node(\"tools\", tool_node)\n",
    "graph_builder.add_node(\"chatbot\", chatbot)\n",
    "\n",
    "from langgraph.prebuilt import tools_condition\n",
    "# graph_builder.add_conditional_edges(\"chatbot\", route_tools, {\"tools\": \"tools\", END: END})\n",
    "graph_builder.add_conditional_edges(\"chatbot\", tools_condition)\n",
    "graph_builder.add_edge(\"tools\", \"chatbot\")\n",
    "\n",
    "\n",
    "from langgraph.checkpoint.memory import MemorySaver\n",
    "memory = MemorySaver()\n",
    "\n",
    "graph = graph_builder.compile(\n",
    "    checkpointer=memory\n",
    "    , interrupt_before=[\"tools\"]\n",
    ")\n",
    "\n",
    "from IPython.display import Image, display\n",
    "\n",
    "try:\n",
    "    display(Image(graph.get_graph().draw_mermaid_png()))\n",
    "except Exception:\n",
    "    # This requires some extra dependencies and is optional\n",
    "    pass\n"
   ]
  },
  {
   "cell_type": "code",
   "execution_count": 63,
   "metadata": {},
   "outputs": [
    {
     "name": "stdout",
     "output_type": "stream",
     "text": [
      "🕒 현재 시간: 2024-12-09 13:57:40\n",
      "================================\u001b[1m Human Message \u001b[0m=================================\n",
      "\n",
      "what time is it now\n",
      "--> chatbot messages : <class 'list'>\n",
      "--> chatbotmessages : [HumanMessage(content='where?', additional_kwargs={}, response_metadata={}, id='602a1a28-19e5-4280-9364-8be63d222429'), AIMessage(content='', additional_kwargs={}, response_metadata={'model': 'llama3.2', 'created_at': '2024-12-09T04:47:38.948681777Z', 'done': True, 'done_reason': 'stop', 'total_duration': 5116103347, 'load_duration': 4525813865, 'prompt_eval_count': 188, 'prompt_eval_duration': 330000000, 'eval_count': 21, 'eval_duration': 259000000, 'message': {'role': 'assistant', 'content': '', 'images': None, 'tool_calls': [{'function': {'name': 'tavily_search_results_json', 'arguments': {'query': 'where'}}}]}}, id='run-c293fa14-c783-4a7e-b6fa-5b8449e89cf1-0', tool_calls=[{'name': 'tavily_search_results_json', 'args': {'query': 'where'}, 'id': 'cf9a2c38-81a8-4a0a-8eeb-53f490e34651', 'type': 'tool_call'}], usage_metadata={'input_tokens': 188, 'output_tokens': 21, 'total_tokens': 209}), ToolMessage(content='[{\"url\": \"https://www.dictionary.com/e/where-vs-were/\", \"content\": \"\\\\u26a1 Quick summary. The word where (pronounced [ wair ]) is commonly used to ask about place or location (Where are you?) or indicate those things (I told him where I was).The word were (pronounced [ wur ]) is a past tense form of the irregular verb be that is used with plural subjects (The cupcakes were delicious) and the pronouns you and they regardless of whether they are singular or plural\"}, {\"url\": \"https://www.si.com/college/tennessee/football/college-football-playoff-rankings-and-seeding-revealed-where-is-tennessee-ranked-01jekfahq7rr\", \"content\": \"The final college football playoff rankings have been revealed. Where are the Tennessee Volunteers ranked? Conference championship weekend wrapped up on Saturday night as Clemson, Oregon, Georgia\"}, {\"url\": \"https://www.merriam-webster.com/dictionary/where\", \"content\": \"Word History\\\\nAdverb\\\\nMiddle English, from Old English hw\\\\u00c7\\\\u00a3r; akin to Old High German hw\\\\u00c4\\\\ufffdr where, Old English hw\\\\u00c4\\\\ufffd who\\\\n\\\\u00e2\\\\u20ac\\\\u201d more at who\\\\nAdverb\\\\nbefore the 12th century, in the meaning defined at sense 1a\\\\nConjunction\\\\n12th century, in the meaning defined at sense 1a\\\\nNoun\\\\n15th century, in the meaning defined at sense 1\\\\nPhrases Containing where\\\\nDictionary Entries Near where\\\\nwhen you come (right) down to it\\\\nwhere\\\\nwhereabouts\\\\nCite this Entry\\\\n\\\\u201cWhere.\\\\u201d where\\\\nadverb\\\\nwhere\\\\nconjunction\\\\nwhere\\\\nnoun\\\\nSynonyms\\\\nAdverb\\\\nNoun\\\\nExamples of where in a Sentence\\\\nThese examples are programmatically compiled from various online sources to illustrate current usage of the word \\'where.\\' Share\\\\nKids Definition\\\\nwhere\\\\nwhere\\\\nwhere\\\\nMore from Merriam-Webster on where\\\\nNglish: Translation of where for Spanish Speakers\\\\nBritannica English: Translation of where for Arabic Speakers\\\\nSubscribe to America\\'s largest dictionary and get thousands more definitions and advanced search\\\\u2014ad free!\\\\n Absent Letters That Are Heard Anyway\\\\nPopular in Wordplay\\\\nThe Words of the Week - Mar. 22\\\\n12 Words for Signs of Spring\\\\n9 Superb Owl Words\\\\n\\'Gaslighting,\\' \\'Woke,\\' \\'Democracy,\\' and Other Top Lookups\\\\nFan Favorites: Your Most Liked Words of the Day 2023\\\\nGames & Quizzes\\\\nLearn a new word every day. Popular in Grammar & Usage\\\\n8 Grammar Terms You Used to Know, But Forgot\\\\nHomophones, Homographs, and Homonyms\\\\nCommonly Misspelled Words\\\\nHow to Use Em Dashes (\\\\u00e2\\\\u20ac\\\\u201d), En Dashes (\\\\u00e2\\\\u20ac\\\\u201c) , and Hyphens (-)\\\\n\"}]', name='tavily_search_results_json', id='f6c1603b-e4e3-464c-9ea4-d691e5df1d59', tool_call_id='cf9a2c38-81a8-4a0a-8eeb-53f490e34651'), AIMessage(content='The word \"where\" is an adverb that can be used in various ways, such as asking about a place or location (Where are you?), indicating those things (I told him where I was), and as a conjunction. It can also be used as a noun to refer to a person or place.\\n\\nSome common synonyms for the word \"where\" include \"whence\", \"whereabouts\", and \"hither\".\\n\\nThe word \"where\" has a rich history, dating back to Middle English, and its meaning has evolved over time. In modern usage, it is commonly used in phrases such as \"right down to it\" or \"when you come (right) down to it\".', additional_kwargs={}, response_metadata={'model': 'llama3.2', 'created_at': '2024-12-09T04:51:07.454343456Z', 'done': True, 'done_reason': 'stop', 'total_duration': 2987319958, 'load_duration': 62368245, 'prompt_eval_count': 739, 'prompt_eval_duration': 427000000, 'eval_count': 140, 'eval_duration': 2008000000, 'message': {'role': 'assistant', 'content': 'The word \"where\" is an adverb that can be used in various ways, such as asking about a place or location (Where are you?), indicating those things (I told him where I was), and as a conjunction. It can also be used as a noun to refer to a person or place.\\n\\nSome common synonyms for the word \"where\" include \"whence\", \"whereabouts\", and \"hither\".\\n\\nThe word \"where\" has a rich history, dating back to Middle English, and its meaning has evolved over time. In modern usage, it is commonly used in phrases such as \"right down to it\" or \"when you come (right) down to it\".', 'images': None, 'tool_calls': None}}, id='run-cbf213a2-34d7-426b-9823-c8de06f60ae7-0', usage_metadata={'input_tokens': 739, 'output_tokens': 140, 'total_tokens': 879}), HumanMessage(content='what time is it now', additional_kwargs={}, response_metadata={}, id='10a5b390-7737-43dc-9a8b-d386b58183f5')]\n",
      "--> TAVILY_API_KEY_6 : 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\n",
      "==================================\u001b[1m Ai Message \u001b[0m==================================\n",
      "Tool Calls:\n",
      "  tavily_search_results_json (63bbb5f8-c994-472e-b97f-e4028997ee33)\n",
      " Call ID: 63bbb5f8-c994-472e-b97f-e4028997ee33\n",
      "  Args:\n",
      "    query: current time\n",
      "Goodbye!\n",
      "⏳ 실행 시간: 15.43초\n"
     ]
    }
   ],
   "source": [
    "\n",
    "config = {\"configurable\": {\"thread_id\": \"test1\"}}\n",
    "\n",
    "# stream_graph_updates 함수는 사용자의 입력을 받아 그래프를 통해 응답을 스트리밍하는 함수입니다\n",
    "def stream_graph_updates(user_input: str):\n",
    "    events = graph.stream(\n",
    "        {\"messages\": [(\"user\", user_input)]}, config, stream_mode=\"values\"\n",
    "    )\n",
    "    for event in events:\n",
    "        event[\"messages\"][-1].pretty_print()\n",
    "\n",
    "\n",
    "# 메인 대화 루프입니다\n",
    "while True:\n",
    "        # 사용자로부터 입력을 받습니다\n",
    "        user_input = input(\"User: \")\n",
    "        \n",
    "        # 종료 명령어를 확인합니다 (quit, exit, q)\n",
    "        if user_input.lower() in [\"quit\", \"exit\", \"q\"]:\n",
    "            print(\"Goodbye!\")\n",
    "            break\n",
    "\n",
    "        # 사용자 입력을 처리하여 응답을 생성합니다\n",
    "        stream_graph_updates(user_input)\n",
    "   "
   ]
  },
  {
   "cell_type": "code",
   "execution_count": null,
   "metadata": {},
   "outputs": [],
   "source": [
    "\n",
    "# stream_graph_updates 함수는 사용자의 입력을 받아 그래프를 통해 응답을 스트리밍하는 함수입니다\n",
    "def stream_graph_updates(user_input: str):\n",
    "    # graph.stream()을 사용하여 사용자 입력을 그래프에 전달하고 응답을 스트리밍합니다\n",
    "    # {\"messages\": [(\"user\", user_input)]} 형태로 입력을 포맷팅합니다\n",
    "    for event in graph.stream({\"messages\": [(\"user\", user_input)]}):\n",
    "        # 각 이벤트에서 값을 추출하여 출력합니다\n",
    "        for value in event.values():\n",
    "            # Assistant: 프리픽스와 함께 메시지의 마지막 컨텐츠를 출력합니다\n",
    "            print(\"Assistant:\", value[\"messages\"][-1].content)\n",
    "\n",
    "\n",
    "\n",
    "\n",
    "# 사용자 입력을 처리하여 응답을 생성합니다\n",
    "stream_graph_updates(\"너는 누구야?\")\n",
    "  "
   ]
  },
  {
   "cell_type": "code",
   "execution_count": 60,
   "metadata": {},
   "outputs": [
    {
     "name": "stdout",
     "output_type": "stream",
     "text": [
      "🕒 현재 시간: 2024-12-09 13:53:08\n",
      "[]\n",
      "==================================\u001b[1m Ai Message \u001b[0m==================================\n",
      "\n",
      "The word \"where\" is an adverb that can be used in various ways, such as asking about a place or location (Where are you?), indicating those things (I told him where I was), and as a conjunction. It can also be used as a noun to refer to a person or place.\n",
      "\n",
      "Some common synonyms for the word \"where\" include \"whence\", \"whereabouts\", and \"hither\".\n",
      "\n",
      "The word \"where\" has a rich history, dating back to Middle English, and its meaning has evolved over time. In modern usage, it is commonly used in phrases such as \"right down to it\" or \"when you come (right) down to it\".\n",
      "⏳ 실행 시간: 0.00초\n"
     ]
    }
   ],
   "source": [
    "snapshot = graph.get_state(config)\n",
    "snapshot.next\n",
    "\n",
    "existing_message = snapshot.values[\"messages\"][-1]\n",
    "print(existing_message.tool_calls)\n",
    "\n",
    "# `None` will append nothing new to the current state, letting it resume as if it had never been interrupted\n",
    "events = graph.stream(None, config, stream_mode=\"values\")\n",
    "for event in events:\n",
    "    if \"messages\" in event:\n",
    "        event[\"messages\"][-1].pretty_print()"
   ]
  },
  {
   "cell_type": "code",
   "execution_count": 66,
   "metadata": {},
   "outputs": [
    {
     "name": "stdout",
     "output_type": "stream",
     "text": [
      "🕒 현재 시간: 2024-12-09 13:59:44\n",
      "{'configurable': {'thread_id': 'test1'}}\n",
      "==================================\u001b[1m Ai Message \u001b[0m==================================\n",
      "Tool Calls:\n",
      "  tavily_search_results_json (63bbb5f8-c994-472e-b97f-e4028997ee33)\n",
      " Call ID: 63bbb5f8-c994-472e-b97f-e4028997ee33\n",
      "  Args:\n",
      "    query: current time\n",
      "==================================\u001b[1m Ai Message \u001b[0m==================================\n",
      "\n",
      "LangGraph is a library for building stateful, multi-actor applications with LLMs.\n",
      "\n",
      "\n",
      "Last 2 messages;\n",
      "[ToolMessage(content='LangGraph is a library for building stateful, multi-actor applications with LLMs.', id='8961f990-3d44-43de-a006-3c65df908a63', tool_call_id='63bbb5f8-c994-472e-b97f-e4028997ee33'), AIMessage(content='LangGraph is a library for building stateful, multi-actor applications with LLMs.', additional_kwargs={}, response_metadata={}, id='49f8aec7-209a-446a-a45f-06e57340600c')]\n",
      "⏳ 실행 시간: 0.00초\n"
     ]
    }
   ],
   "source": [
    "print(config)\n",
    "snapshot = graph.get_state(config)\n",
    "existing_message = snapshot.values[\"messages\"][-1]\n",
    "existing_message.pretty_print()\n",
    "\n",
    "from langchain_core.messages import AIMessage, ToolMessage\n",
    "\n",
    "answer = (\n",
    "    \"LangGraph is a library for building stateful, multi-actor applications with LLMs.\"\n",
    ")\n",
    "new_messages = [\n",
    "    # The LLM API expects some ToolMessage to match its tool call. We'll satisfy that here.\n",
    "    ToolMessage(content=answer, tool_call_id=existing_message.tool_calls[0][\"id\"]),\n",
    "    # And then directly \"put words in the LLM's mouth\" by populating its response.\n",
    "    AIMessage(content=answer),\n",
    "]\n",
    "\n",
    "new_messages[-1].pretty_print()\n",
    "graph.update_state(\n",
    "    # Which state to update\n",
    "    config,\n",
    "    # The updated values to provide. The messages in our `State` are \"append-only\", meaning this will be appended\n",
    "    # to the existing state. We will review how to update existing messages in the next section!\n",
    "    {\"messages\": new_messages},\n",
    ")\n",
    "\n",
    "print(\"\\n\\nLast 2 messages;\")\n",
    "print(graph.get_state(config).values[\"messages\"][-2:])"
   ]
  },
  {
   "cell_type": "code",
   "execution_count": 35,
   "metadata": {},
   "outputs": [
    {
     "name": "stdout",
     "output_type": "stream",
     "text": [
      "🕒 현재 시간: 2024-11-28 15:05:20\n",
      "--> messages : <class 'list'>\n",
      "--> messages : [HumanMessage(content='현재 시간은?', additional_kwargs={}, response_metadata={}, id='da3b46ed-a651-45d4-a1e2-d64841f2bc5e')]\n",
      "--> chatbot : after llm.invoke : 현재 시간은 다음과 같습니다: [날짜, 시간 포맷팅 규칙에 따라 현재 날짜와 시간을 표시합니다]\n",
      "{'messages': [HumanMessage(content='현재 시간은?', additional_kwargs={}, response_metadata={}, id='da3b46ed-a651-45d4-a1e2-d64841f2bc5e'), AIMessage(content='현재 시간은 다음과 같습니다: [날짜, 시간 포맷팅 규칙에 따라 현재 날짜와 시간을 표시합니다]', additional_kwargs={}, response_metadata={}, id='f7ff2f24-6e70-4b00-abeb-e76ee07443f0')]}\n",
      "⏳ 실행 시간: 15.82초\n"
     ]
    }
   ],
   "source": [
    "from langchain_core.runnables import RunnableConfig\n",
    "\n",
    "config = RunnableConfig(recursion_limit=10)\n",
    "\n",
    "inputs = State(messages=\"현재 시간은?\")\n",
    "outputs = graph.invoke(inputs, config)\n",
    "\n",
    "print(outputs)"
   ]
  },
  {
   "cell_type": "code",
   "execution_count": 69,
   "metadata": {},
   "outputs": [
    {
     "name": "stdout",
     "output_type": "stream",
     "text": [
      "🕒 현재 시간: 2024-12-09 15:14:30\n",
      "\u001b[33m📥 Attempting to download repository as a ZIP archive...\u001b[0m\n",
      "\u001b[33mURL: https://github.com/langchain-ai/react-agent/archive/refs/heads/main.zip\u001b[0m\n",
      "\u001b[32m✅ Downloaded and extracted repository to /home/stlim/projects/samples/customAIService/langchain/langgraph-server\u001b[0m\n",
      "\u001b[32m\u001b[1m🎉 New project created at /home/stlim/projects/samples/customAIService/langchain/langgraph-server\u001b[0m\n",
      "cp: cannot stat '.env': No such file or directory\n",
      "Obtaining file:///home/stlim/projects/samples/customAIService/langchain/langgraph-server\n",
      "  Installing build dependencies ... \u001b[?25ldone\n",
      "\u001b[?25h  Checking if build backend supports build_editable ... \u001b[?25ldone\n",
      "\u001b[?25h  Getting requirements to build editable ... \u001b[?25ldone\n",
      "\u001b[?25h  Preparing editable metadata (pyproject.toml) ... \u001b[?25ldone\n",
      "\u001b[?25hRequirement already satisfied: langgraph>=0.2.6 in /home/stlim/projects/samples/customAIService/.venv/lib/python3.12/site-packages (from react-agent==0.0.1) (0.2.56)\n",
      "Requirement already satisfied: langchain-openai>=0.1.22 in /home/stlim/projects/samples/customAIService/.venv/lib/python3.12/site-packages (from react-agent==0.0.1) (0.2.11)\n",
      "Requirement already satisfied: langchain-anthropic>=0.1.23 in /home/stlim/projects/samples/customAIService/.venv/lib/python3.12/site-packages (from react-agent==0.0.1) (0.3.0)\n",
      "Requirement already satisfied: langchain>=0.2.14 in /home/stlim/projects/samples/customAIService/.venv/lib/python3.12/site-packages (from react-agent==0.0.1) (0.3.10)\n",
      "Requirement already satisfied: langchain-fireworks>=0.1.7 in /home/stlim/projects/samples/customAIService/.venv/lib/python3.12/site-packages (from react-agent==0.0.1) (0.2.5)\n",
      "Requirement already satisfied: python-dotenv>=1.0.1 in /home/stlim/projects/samples/customAIService/.venv/lib/python3.12/site-packages (from react-agent==0.0.1) (1.0.1)\n",
      "Requirement already satisfied: langchain-community>=0.2.17 in /home/stlim/projects/samples/customAIService/.venv/lib/python3.12/site-packages (from react-agent==0.0.1) (0.3.10)\n",
      "Requirement already satisfied: tavily-python>=0.4.0 in /home/stlim/projects/samples/customAIService/.venv/lib/python3.12/site-packages (from react-agent==0.0.1) (0.5.0)\n",
      "Requirement already satisfied: PyYAML>=5.3 in /home/stlim/projects/samples/customAIService/.venv/lib/python3.12/site-packages (from langchain>=0.2.14->react-agent==0.0.1) (6.0.2)\n",
      "Requirement already satisfied: SQLAlchemy<3,>=1.4 in /home/stlim/projects/samples/customAIService/.venv/lib/python3.12/site-packages (from langchain>=0.2.14->react-agent==0.0.1) (2.0.36)\n",
      "Requirement already satisfied: aiohttp<4.0.0,>=3.8.3 in /home/stlim/projects/samples/customAIService/.venv/lib/python3.12/site-packages (from langchain>=0.2.14->react-agent==0.0.1) (3.11.10)\n",
      "Requirement already satisfied: langchain-core<0.4.0,>=0.3.22 in /home/stlim/projects/samples/customAIService/.venv/lib/python3.12/site-packages (from langchain>=0.2.14->react-agent==0.0.1) (0.3.22)\n",
      "Requirement already satisfied: langchain-text-splitters<0.4.0,>=0.3.0 in /home/stlim/projects/samples/customAIService/.venv/lib/python3.12/site-packages (from langchain>=0.2.14->react-agent==0.0.1) (0.3.2)\n",
      "Requirement already satisfied: langsmith<0.2.0,>=0.1.17 in /home/stlim/projects/samples/customAIService/.venv/lib/python3.12/site-packages (from langchain>=0.2.14->react-agent==0.0.1) (0.1.147)\n",
      "Requirement already satisfied: numpy<3,>=1.26.2 in /home/stlim/projects/samples/customAIService/.venv/lib/python3.12/site-packages (from langchain>=0.2.14->react-agent==0.0.1) (2.2.0)\n",
      "Requirement already satisfied: pydantic<3.0.0,>=2.7.4 in /home/stlim/projects/samples/customAIService/.venv/lib/python3.12/site-packages (from langchain>=0.2.14->react-agent==0.0.1) (2.10.3)\n",
      "Requirement already satisfied: requests<3,>=2 in /home/stlim/projects/samples/customAIService/.venv/lib/python3.12/site-packages (from langchain>=0.2.14->react-agent==0.0.1) (2.32.3)\n",
      "Requirement already satisfied: tenacity!=8.4.0,<10,>=8.1.0 in /home/stlim/projects/samples/customAIService/.venv/lib/python3.12/site-packages (from langchain>=0.2.14->react-agent==0.0.1) (8.5.0)\n",
      "Requirement already satisfied: anthropic<1,>=0.39.0 in /home/stlim/projects/samples/customAIService/.venv/lib/python3.12/site-packages (from langchain-anthropic>=0.1.23->react-agent==0.0.1) (0.40.0)\n",
      "Requirement already satisfied: defusedxml<0.8.0,>=0.7.1 in /home/stlim/projects/samples/customAIService/.venv/lib/python3.12/site-packages (from langchain-anthropic>=0.1.23->react-agent==0.0.1) (0.7.1)\n",
      "Requirement already satisfied: dataclasses-json<0.7,>=0.5.7 in /home/stlim/projects/samples/customAIService/.venv/lib/python3.12/site-packages (from langchain-community>=0.2.17->react-agent==0.0.1) (0.6.7)\n",
      "Requirement already satisfied: httpx-sse<0.5.0,>=0.4.0 in /home/stlim/projects/samples/customAIService/.venv/lib/python3.12/site-packages (from langchain-community>=0.2.17->react-agent==0.0.1) (0.4.0)\n",
      "Requirement already satisfied: pydantic-settings<3.0.0,>=2.4.0 in /home/stlim/projects/samples/customAIService/.venv/lib/python3.12/site-packages (from langchain-community>=0.2.17->react-agent==0.0.1) (2.6.1)\n",
      "Requirement already satisfied: fireworks-ai>=0.13.0 in /home/stlim/projects/samples/customAIService/.venv/lib/python3.12/site-packages (from langchain-fireworks>=0.1.7->react-agent==0.0.1) (0.15.10)\n",
      "Requirement already satisfied: openai<2.0.0,>=1.10.0 in /home/stlim/projects/samples/customAIService/.venv/lib/python3.12/site-packages (from langchain-fireworks>=0.1.7->react-agent==0.0.1) (1.57.0)\n",
      "Requirement already satisfied: tiktoken<1,>=0.7 in /home/stlim/projects/samples/customAIService/.venv/lib/python3.12/site-packages (from langchain-openai>=0.1.22->react-agent==0.0.1) (0.8.0)\n",
      "Requirement already satisfied: langgraph-checkpoint<3.0.0,>=2.0.4 in /home/stlim/projects/samples/customAIService/.venv/lib/python3.12/site-packages (from langgraph>=0.2.6->react-agent==0.0.1) (2.0.8)\n",
      "Requirement already satisfied: langgraph-sdk<0.2.0,>=0.1.42 in /home/stlim/projects/samples/customAIService/.venv/lib/python3.12/site-packages (from langgraph>=0.2.6->react-agent==0.0.1) (0.1.43)\n",
      "Requirement already satisfied: httpx in /home/stlim/projects/samples/customAIService/.venv/lib/python3.12/site-packages (from tavily-python>=0.4.0->react-agent==0.0.1) (0.27.2)\n",
      "Requirement already satisfied: aiohappyeyeballs>=2.3.0 in /home/stlim/projects/samples/customAIService/.venv/lib/python3.12/site-packages (from aiohttp<4.0.0,>=3.8.3->langchain>=0.2.14->react-agent==0.0.1) (2.4.4)\n",
      "Requirement already satisfied: aiosignal>=1.1.2 in /home/stlim/projects/samples/customAIService/.venv/lib/python3.12/site-packages (from aiohttp<4.0.0,>=3.8.3->langchain>=0.2.14->react-agent==0.0.1) (1.3.1)\n",
      "Requirement already satisfied: attrs>=17.3.0 in /home/stlim/projects/samples/customAIService/.venv/lib/python3.12/site-packages (from aiohttp<4.0.0,>=3.8.3->langchain>=0.2.14->react-agent==0.0.1) (24.2.0)\n",
      "Requirement already satisfied: frozenlist>=1.1.1 in /home/stlim/projects/samples/customAIService/.venv/lib/python3.12/site-packages (from aiohttp<4.0.0,>=3.8.3->langchain>=0.2.14->react-agent==0.0.1) (1.5.0)\n",
      "Requirement already satisfied: multidict<7.0,>=4.5 in /home/stlim/projects/samples/customAIService/.venv/lib/python3.12/site-packages (from aiohttp<4.0.0,>=3.8.3->langchain>=0.2.14->react-agent==0.0.1) (6.1.0)\n",
      "Requirement already satisfied: propcache>=0.2.0 in /home/stlim/projects/samples/customAIService/.venv/lib/python3.12/site-packages (from aiohttp<4.0.0,>=3.8.3->langchain>=0.2.14->react-agent==0.0.1) (0.2.1)\n",
      "Requirement already satisfied: yarl<2.0,>=1.17.0 in /home/stlim/projects/samples/customAIService/.venv/lib/python3.12/site-packages (from aiohttp<4.0.0,>=3.8.3->langchain>=0.2.14->react-agent==0.0.1) (1.18.3)\n",
      "Requirement already satisfied: anyio<5,>=3.5.0 in /home/stlim/projects/samples/customAIService/.venv/lib/python3.12/site-packages (from anthropic<1,>=0.39.0->langchain-anthropic>=0.1.23->react-agent==0.0.1) (4.7.0)\n",
      "Requirement already satisfied: distro<2,>=1.7.0 in /home/stlim/projects/samples/customAIService/.venv/lib/python3.12/site-packages (from anthropic<1,>=0.39.0->langchain-anthropic>=0.1.23->react-agent==0.0.1) (1.9.0)\n",
      "Requirement already satisfied: jiter<1,>=0.4.0 in /home/stlim/projects/samples/customAIService/.venv/lib/python3.12/site-packages (from anthropic<1,>=0.39.0->langchain-anthropic>=0.1.23->react-agent==0.0.1) (0.8.0)\n",
      "Requirement already satisfied: sniffio in /home/stlim/projects/samples/customAIService/.venv/lib/python3.12/site-packages (from anthropic<1,>=0.39.0->langchain-anthropic>=0.1.23->react-agent==0.0.1) (1.3.1)\n",
      "Requirement already satisfied: typing-extensions<5,>=4.7 in /home/stlim/projects/samples/customAIService/.venv/lib/python3.12/site-packages (from anthropic<1,>=0.39.0->langchain-anthropic>=0.1.23->react-agent==0.0.1) (4.12.2)\n",
      "Requirement already satisfied: marshmallow<4.0.0,>=3.18.0 in /home/stlim/projects/samples/customAIService/.venv/lib/python3.12/site-packages (from dataclasses-json<0.7,>=0.5.7->langchain-community>=0.2.17->react-agent==0.0.1) (3.23.1)\n",
      "Requirement already satisfied: typing-inspect<1,>=0.4.0 in /home/stlim/projects/samples/customAIService/.venv/lib/python3.12/site-packages (from dataclasses-json<0.7,>=0.5.7->langchain-community>=0.2.17->react-agent==0.0.1) (0.9.0)\n",
      "Requirement already satisfied: httpx-ws in /home/stlim/projects/samples/customAIService/.venv/lib/python3.12/site-packages (from fireworks-ai>=0.13.0->langchain-fireworks>=0.1.7->react-agent==0.0.1) (0.7.0)\n",
      "Requirement already satisfied: Pillow in /home/stlim/projects/samples/customAIService/.venv/lib/python3.12/site-packages (from fireworks-ai>=0.13.0->langchain-fireworks>=0.1.7->react-agent==0.0.1) (11.0.0)\n",
      "Requirement already satisfied: certifi in /home/stlim/projects/samples/customAIService/.venv/lib/python3.12/site-packages (from httpx->tavily-python>=0.4.0->react-agent==0.0.1) (2024.8.30)\n",
      "Requirement already satisfied: httpcore==1.* in /home/stlim/projects/samples/customAIService/.venv/lib/python3.12/site-packages (from httpx->tavily-python>=0.4.0->react-agent==0.0.1) (1.0.7)\n",
      "Requirement already satisfied: idna in /home/stlim/projects/samples/customAIService/.venv/lib/python3.12/site-packages (from httpx->tavily-python>=0.4.0->react-agent==0.0.1) (3.10)\n",
      "Requirement already satisfied: h11<0.15,>=0.13 in /home/stlim/projects/samples/customAIService/.venv/lib/python3.12/site-packages (from httpcore==1.*->httpx->tavily-python>=0.4.0->react-agent==0.0.1) (0.14.0)\n",
      "Requirement already satisfied: jsonpatch<2.0,>=1.33 in /home/stlim/projects/samples/customAIService/.venv/lib/python3.12/site-packages (from langchain-core<0.4.0,>=0.3.22->langchain>=0.2.14->react-agent==0.0.1) (1.33)\n",
      "Requirement already satisfied: packaging<25,>=23.2 in /home/stlim/projects/samples/customAIService/.venv/lib/python3.12/site-packages (from langchain-core<0.4.0,>=0.3.22->langchain>=0.2.14->react-agent==0.0.1) (24.2)\n",
      "Requirement already satisfied: msgpack<2.0.0,>=1.1.0 in /home/stlim/projects/samples/customAIService/.venv/lib/python3.12/site-packages (from langgraph-checkpoint<3.0.0,>=2.0.4->langgraph>=0.2.6->react-agent==0.0.1) (1.1.0)\n",
      "Requirement already satisfied: orjson>=3.10.1 in /home/stlim/projects/samples/customAIService/.venv/lib/python3.12/site-packages (from langgraph-sdk<0.2.0,>=0.1.42->langgraph>=0.2.6->react-agent==0.0.1) (3.10.12)\n",
      "Requirement already satisfied: requests-toolbelt<2.0.0,>=1.0.0 in /home/stlim/projects/samples/customAIService/.venv/lib/python3.12/site-packages (from langsmith<0.2.0,>=0.1.17->langchain>=0.2.14->react-agent==0.0.1) (1.0.0)\n",
      "Requirement already satisfied: tqdm>4 in /home/stlim/projects/samples/customAIService/.venv/lib/python3.12/site-packages (from openai<2.0.0,>=1.10.0->langchain-fireworks>=0.1.7->react-agent==0.0.1) (4.67.1)\n",
      "Requirement already satisfied: annotated-types>=0.6.0 in /home/stlim/projects/samples/customAIService/.venv/lib/python3.12/site-packages (from pydantic<3.0.0,>=2.7.4->langchain>=0.2.14->react-agent==0.0.1) (0.7.0)\n",
      "Requirement already satisfied: pydantic-core==2.27.1 in /home/stlim/projects/samples/customAIService/.venv/lib/python3.12/site-packages (from pydantic<3.0.0,>=2.7.4->langchain>=0.2.14->react-agent==0.0.1) (2.27.1)\n",
      "Requirement already satisfied: charset-normalizer<4,>=2 in /home/stlim/projects/samples/customAIService/.venv/lib/python3.12/site-packages (from requests<3,>=2->langchain>=0.2.14->react-agent==0.0.1) (3.4.0)\n",
      "Requirement already satisfied: urllib3<3,>=1.21.1 in /home/stlim/projects/samples/customAIService/.venv/lib/python3.12/site-packages (from requests<3,>=2->langchain>=0.2.14->react-agent==0.0.1) (2.2.3)\n",
      "Requirement already satisfied: greenlet!=0.4.17 in /home/stlim/projects/samples/customAIService/.venv/lib/python3.12/site-packages (from SQLAlchemy<3,>=1.4->langchain>=0.2.14->react-agent==0.0.1) (3.1.1)\n",
      "Requirement already satisfied: regex>=2022.1.18 in /home/stlim/projects/samples/customAIService/.venv/lib/python3.12/site-packages (from tiktoken<1,>=0.7->langchain-openai>=0.1.22->react-agent==0.0.1) (2024.11.6)\n",
      "Requirement already satisfied: jsonpointer>=1.9 in /home/stlim/projects/samples/customAIService/.venv/lib/python3.12/site-packages (from jsonpatch<2.0,>=1.33->langchain-core<0.4.0,>=0.3.22->langchain>=0.2.14->react-agent==0.0.1) (3.0.0)\n",
      "Requirement already satisfied: mypy-extensions>=0.3.0 in /home/stlim/projects/samples/customAIService/.venv/lib/python3.12/site-packages (from typing-inspect<1,>=0.4.0->dataclasses-json<0.7,>=0.5.7->langchain-community>=0.2.17->react-agent==0.0.1) (1.0.0)\n",
      "Requirement already satisfied: wsproto in /home/stlim/projects/samples/customAIService/.venv/lib/python3.12/site-packages (from httpx-ws->fireworks-ai>=0.13.0->langchain-fireworks>=0.1.7->react-agent==0.0.1) (1.2.0)\n",
      "Building wheels for collected packages: react-agent\n",
      "  Building editable for react-agent (pyproject.toml) ... \u001b[?25ldone\n",
      "\u001b[?25h  Created wheel for react-agent: filename=react_agent-0.0.1-0.editable-py3-none-any.whl size=6958 sha256=bc09607120e9b004ea3e64065b3e9340382725532d550255cd968d1f98d5d45b\n",
      "  Stored in directory: /tmp/pip-ephem-wheel-cache-m4rdq7to/wheels/e1/68/36/541b1d57fbf6b08e2b8af7f9cb052d7426e48a9f16662b3dd0\n",
      "Successfully built react-agent\n",
      "Installing collected packages: react-agent\n",
      "  Attempting uninstall: react-agent\n",
      "    Found existing installation: react-agent 0.0.1\n",
      "    Uninstalling react-agent-0.0.1:\n",
      "      Successfully uninstalled react-agent-0.0.1\n",
      "Successfully installed react-agent-0.0.1\n",
      "INFO:langgraph_api.cli:\n",
      "\n",
      "        Welcome to\n",
      "\n",
      "╦  ┌─┐┌┐┌┌─┐╔═╗┬─┐┌─┐┌─┐┬ ┬\n",
      "║  ├─┤││││ ┬║ ╦├┬┘├─┤├─┘├─┤\n",
      "╩═╝┴ ┴┘└┘└─┘╚═╝┴└─┴ ┴┴  ┴ ┴\n",
      "\n",
      "- 🚀 API: \u001b[36mhttp://127.0.0.1:2024\u001b[0m\n",
      "- 🎨 Studio UI: \u001b[36mhttps://smith.langchain.com/studio/?baseUrl=http://127.0.0.1:2024\u001b[0m\n",
      "- 📚 API Docs: \u001b[36mhttp://127.0.0.1:2024/docs\u001b[0m\n",
      "\n",
      "This in-memory server is designed for development and testing.\n",
      "For production use, please use LangGraph Cloud.\n",
      "\n",
      "\n",
      "\u001b[2m2024-12-09T06:14:36.456855Z\u001b[0m [\u001b[32m\u001b[1minfo     \u001b[0m] \u001b[1mWill watch for changes in these directories: ['/home/stlim/projects/samples/customAIService/langchain/langgraph-server']\u001b[0m [\u001b[0m\u001b[1m\u001b[34muvicorn.error\u001b[0m]\u001b[0m \u001b[36mapi_variant\u001b[0m=\u001b[35mlocal_dev\u001b[0m\n",
      "\u001b[2m2024-12-09T06:14:36.457175Z\u001b[0m [\u001b[32m\u001b[1minfo     \u001b[0m] \u001b[1mUvicorn running on http://127.0.0.1:2024 (Press CTRL+C to quit)\u001b[0m [\u001b[0m\u001b[1m\u001b[34muvicorn.error\u001b[0m]\u001b[0m \u001b[36mapi_variant\u001b[0m=\u001b[35mlocal_dev\u001b[0m \u001b[36mcolor_message\u001b[0m=\u001b[35mUvicorn running on \u001b[1m%s://%s:%d\u001b[0m (Press CTRL+C to quit)\u001b[0m\n",
      "\u001b[2m2024-12-09T06:14:36.457644Z\u001b[0m [\u001b[32m\u001b[1minfo     \u001b[0m] \u001b[1mStarted reloader process [134741] using WatchFiles\u001b[0m [\u001b[0m\u001b[1m\u001b[34muvicorn.error\u001b[0m]\u001b[0m \u001b[36mapi_variant\u001b[0m=\u001b[35mlocal_dev\u001b[0m \u001b[36mcolor_message\u001b[0m=\u001b[35mStarted reloader process [\u001b[36m\u001b[1m134741\u001b[0m] using \u001b[36m\u001b[1mWatchFiles\u001b[0m\u001b[0m\n",
      "\u001b[2m2024-12-09T06:14:36.991801Z\u001b[0m [\u001b[32m\u001b[1minfo     \u001b[0m] \u001b[1mStarted server process [134782]\u001b[0m [\u001b[0m\u001b[1m\u001b[34muvicorn.error\u001b[0m]\u001b[0m \u001b[36mapi_variant\u001b[0m=\u001b[35mlocal_dev\u001b[0m \u001b[36mcolor_message\u001b[0m=\u001b[35mStarted server process [\u001b[36m%d\u001b[0m]\u001b[0m\n",
      "\u001b[2m2024-12-09T06:14:36.991933Z\u001b[0m [\u001b[32m\u001b[1minfo     \u001b[0m] \u001b[1mWaiting for application startup.\u001b[0m [\u001b[0m\u001b[1m\u001b[34muvicorn.error\u001b[0m]\u001b[0m \u001b[36mapi_variant\u001b[0m=\u001b[35mlocal_dev\u001b[0m\n",
      "\u001b[2m2024-12-09T06:14:37.067206Z\u001b[0m [\u001b[32m\u001b[1minfo     \u001b[0m] \u001b[1m2 changes detected            \u001b[0m [\u001b[0m\u001b[1m\u001b[34mwatchfiles.main\u001b[0m]\u001b[0m \u001b[36mapi_variant\u001b[0m=\u001b[35mlocal_dev\u001b[0m\n",
      "\u001b[2m2024-12-09T06:14:37.259797Z\u001b[0m [\u001b[32m\u001b[1minfo     \u001b[0m] \u001b[1mRegistering graph with id 'agent'\u001b[0m [\u001b[0m\u001b[1m\u001b[34mlanggraph_api.graph\u001b[0m]\u001b[0m \u001b[36mapi_variant\u001b[0m=\u001b[35mlocal_dev\u001b[0m \u001b[36mgraph_id\u001b[0m=\u001b[35magent\u001b[0m\n",
      "\u001b[2m2024-12-09T06:14:37.260232Z\u001b[0m [\u001b[32m\u001b[1minfo     \u001b[0m] \u001b[1mStarting metadata loop        \u001b[0m [\u001b[0m\u001b[1m\u001b[34mlanggraph_api.metadata\u001b[0m]\u001b[0m \u001b[36mapi_variant\u001b[0m=\u001b[35mlocal_dev\u001b[0m\n",
      "\u001b[2m2024-12-09T06:14:37.264330Z\u001b[0m [\u001b[32m\u001b[1minfo     \u001b[0m] \u001b[1mApplication startup complete. \u001b[0m [\u001b[0m\u001b[1m\u001b[34muvicorn.error\u001b[0m]\u001b[0m \u001b[36mapi_variant\u001b[0m=\u001b[35mlocal_dev\u001b[0m\n",
      "\u001b[2m2024-12-09T06:14:37.264694Z\u001b[0m [\u001b[32m\u001b[1minfo     \u001b[0m] \u001b[1mStarting 1 background workers \u001b[0m [\u001b[0m\u001b[1m\u001b[34mlanggraph_api.queue\u001b[0m]\u001b[0m \u001b[36mapi_variant\u001b[0m=\u001b[35mlocal_dev\u001b[0m\n",
      "\u001b[2m2024-12-09T06:14:37.266025Z\u001b[0m [\u001b[32m\u001b[1minfo     \u001b[0m] \u001b[1mWorker stats                  \u001b[0m [\u001b[0m\u001b[1m\u001b[34mlanggraph_api.queue\u001b[0m]\u001b[0m \u001b[36mactive\u001b[0m=\u001b[35m0\u001b[0m \u001b[36mapi_variant\u001b[0m=\u001b[35mlocal_dev\u001b[0m \u001b[36mavailable\u001b[0m=\u001b[35m1\u001b[0m \u001b[36mmax\u001b[0m=\u001b[35m1\u001b[0m\n",
      "\u001b[2m2024-12-09T06:14:37.266411Z\u001b[0m [\u001b[32m\u001b[1minfo     \u001b[0m] \u001b[1mGET /ok 200 0ms               \u001b[0m [\u001b[0m\u001b[1m\u001b[34mlanggraph_api.server\u001b[0m]\u001b[0m \u001b[36mapi_variant\u001b[0m=\u001b[35mlocal_dev\u001b[0m \u001b[36mlatency_ms\u001b[0m=\u001b[35m0\u001b[0m \u001b[36mmethod\u001b[0m=\u001b[35mGET\u001b[0m \u001b[36mpath\u001b[0m=\u001b[35m/ok\u001b[0m \u001b[36mpath_params\u001b[0m=\u001b[35m{}\u001b[0m \u001b[36mproto\u001b[0m=\u001b[35m1.1\u001b[0m \u001b[36mquery_string\u001b[0m=\u001b[35m\u001b[0m \u001b[36mreq_header\u001b[0m=\u001b[35m{'accept-encoding': 'identity', 'host': '127.0.0.1:2024', 'user-agent': 'Python-urllib/3.12', 'connection': 'close'}\u001b[0m \u001b[36mres_header\u001b[0m=\u001b[35m{'content-length': '11', 'content-type': 'application/json'}\u001b[0m \u001b[36mroute\u001b[0m=\u001b[35mNone\u001b[0m \u001b[36mstatus\u001b[0m=\u001b[35m200\u001b[0m\n",
      "\u001b[2m2024-12-09T06:14:37.266832Z\u001b[0m [\u001b[32m\u001b[1minfo     \u001b[0m] \u001b[1mQueue stats                   \u001b[0m [\u001b[0m\u001b[1m\u001b[34mlanggraph_api.queue\u001b[0m]\u001b[0m \u001b[36mapi_variant\u001b[0m=\u001b[35mlocal_dev\u001b[0m \u001b[36mmax_age_secs\u001b[0m=\u001b[35mNone\u001b[0m \u001b[36mmed_age_secs\u001b[0m=\u001b[35mNone\u001b[0m \u001b[36mn_pending\u001b[0m=\u001b[35m0\u001b[0m\n",
      "\u001b[2m2024-12-09T06:14:37.418135Z\u001b[0m [\u001b[32m\u001b[1minfo     \u001b[0m] \u001b[1m9 changes detected            \u001b[0m [\u001b[0m\u001b[1m\u001b[34mwatchfiles.main\u001b[0m]\u001b[0m \u001b[36mapi_variant\u001b[0m=\u001b[35mlocal_dev\u001b[0m\n",
      "🎨 Opening Studio in your browser...\n",
      "\u001b[2m2024-12-09T06:14:37.477833Z\u001b[0m [\u001b[32m\u001b[1minfo     \u001b[0m] \u001b[1m🎨 Opening Studio in your browser...\u001b[0m [\u001b[0m\u001b[1m\u001b[34mbrowser_opener\u001b[0m]\u001b[0m \u001b[36mapi_variant\u001b[0m=\u001b[35mlocal_dev\u001b[0m \u001b[36mmessage\u001b[0m=\u001b[35m🎨 Opening Studio in your browser...\u001b[0m\n",
      "URL: https://smith.langchain.com/studio/?baseUrl=http://127.0.0.1:2024&organizationId=bed8bbc8-94f8-413b-bfe5-57fb240722ff\n",
      "\u001b[2m2024-12-09T06:14:37.478096Z\u001b[0m [\u001b[32m\u001b[1minfo     \u001b[0m] \u001b[1mURL: https://smith.langchain.com/studio/?baseUrl=http://127.0.0.1:2024&organizationId=bed8bbc8-94f8-413b-bfe5-57fb240722ff\u001b[0m [\u001b[0m\u001b[1m\u001b[34mbrowser_opener\u001b[0m]\u001b[0m \u001b[36mapi_variant\u001b[0m=\u001b[35mlocal_dev\u001b[0m \u001b[36mmessage\u001b[0m=\u001b[35mURL: https://smith.langchain.com/studio/?baseUrl=http://127.0.0.1:2024&organizationId=bed8bbc8-94f8-413b-bfe5-57fb240722ff\u001b[0m\n",
      "\u001b[2m2024-12-09T06:14:37.664823Z\u001b[0m [\u001b[32m\u001b[1minfo     \u001b[0m] \u001b[1mHTTP Request: POST https://api.smith.langchain.com/v1/metadata/submit \"HTTP/1.1 204 No Content\"\u001b[0m [\u001b[0m\u001b[1m\u001b[34mhttpx\u001b[0m]\u001b[0m \u001b[36mapi_variant\u001b[0m=\u001b[35mlocal_dev\u001b[0m\n",
      "/usr/bin/xdg-open: 882: x-www-browser: not found\n",
      "/usr/bin/xdg-open: 882: firefox: not found\n",
      "/usr/bin/xdg-open: 882: iceweasel: not found\n",
      "/usr/bin/xdg-open: 882: seamonkey: not found\n",
      "/usr/bin/xdg-open: 882: mozilla: not found\n",
      "/usr/bin/xdg-open: 882: epiphany: not found\n",
      "/usr/bin/xdg-open: 882: konqueror: not found\n",
      "/usr/bin/xdg-open: 882: chromium: not found\n",
      "/usr/bin/xdg-open: 882: chromium-browser: not found\n",
      "/usr/bin/xdg-open: 882: google-chrome: not found\n",
      "/usr/bin/xdg-open: 882: www-browser: not found\n",
      "/usr/bin/xdg-open: 882: links2: not found\n",
      "/usr/bin/xdg-open: 882: elinks: not found\n",
      "/usr/bin/xdg-open: 882: links: not found\n",
      "/usr/bin/xdg-open: 882: lynx: not found\n",
      "/usr/bin/xdg-open: 882: w3m: not found\n",
      "xdg-open: no method available for opening 'https://smith.langchain.com/studio/?baseUrl=http://127.0.0.1:2024&organizationId=bed8bbc8-94f8-413b-bfe5-57fb240722ff'\n",
      "\u001b[2m2024-12-09T06:15:37.737352Z\u001b[0m [\u001b[32m\u001b[1minfo     \u001b[0m] \u001b[1mWorker stats                  \u001b[0m [\u001b[0m\u001b[1m\u001b[34mlanggraph_api.queue\u001b[0m]\u001b[0m \u001b[36mactive\u001b[0m=\u001b[35m0\u001b[0m \u001b[36mapi_variant\u001b[0m=\u001b[35mlocal_dev\u001b[0m \u001b[36mavailable\u001b[0m=\u001b[35m1\u001b[0m \u001b[36mmax\u001b[0m=\u001b[35m1\u001b[0m\n",
      "\u001b[2m2024-12-09T06:15:37.739234Z\u001b[0m [\u001b[32m\u001b[1minfo     \u001b[0m] \u001b[1mQueue stats                   \u001b[0m [\u001b[0m\u001b[1m\u001b[34mlanggraph_api.queue\u001b[0m]\u001b[0m \u001b[36mapi_variant\u001b[0m=\u001b[35mlocal_dev\u001b[0m \u001b[36mmax_age_secs\u001b[0m=\u001b[35mNone\u001b[0m \u001b[36mmed_age_secs\u001b[0m=\u001b[35mNone\u001b[0m \u001b[36mn_pending\u001b[0m=\u001b[35m0\u001b[0m\n",
      "^C\n",
      "\u001b[2m2024-12-09T06:16:02.172111Z\u001b[0m [\u001b[32m\u001b[1minfo     \u001b[0m] \u001b[1mShutting down                 \u001b[0m [\u001b[0m\u001b[1m\u001b[34muvicorn.error\u001b[0m]\u001b[0m \u001b[36mapi_variant\u001b[0m=\u001b[35mlocal_dev\u001b[0m\n",
      "\u001b[2m2024-12-09T06:16:02.273862Z\u001b[0m [\u001b[32m\u001b[1minfo     \u001b[0m] \u001b[1mWaiting for application shutdown.\u001b[0m [\u001b[0m\u001b[1m\u001b[34muvicorn.error\u001b[0m]\u001b[0m \u001b[36mapi_variant\u001b[0m=\u001b[35mlocal_dev\u001b[0m\n",
      "\u001b[2m2024-12-09T06:16:02.274254Z\u001b[0m [\u001b[32m\u001b[1minfo     \u001b[0m] \u001b[1mShutting down background workers\u001b[0m [\u001b[0m\u001b[1m\u001b[34mlanggraph_api.queue\u001b[0m]\u001b[0m \u001b[36mapi_variant\u001b[0m=\u001b[35mlocal_dev\u001b[0m\n",
      "\u001b[2m2024-12-09T06:16:02.274601Z\u001b[0m [\u001b[32m\u001b[1minfo     \u001b[0m] \u001b[1mCancelling remote graphs      \u001b[0m [\u001b[0m\u001b[1m\u001b[34mlanggraph_api.graph\u001b[0m]\u001b[0m \u001b[36mapi_variant\u001b[0m=\u001b[35mlocal_dev\u001b[0m\n",
      "\u001b[2m2024-12-09T06:16:02.275827Z\u001b[0m [\u001b[32m\u001b[1minfo     \u001b[0m] \u001b[1mApplication shutdown complete.\u001b[0m [\u001b[0m\u001b[1m\u001b[34muvicorn.error\u001b[0m]\u001b[0m \u001b[36mapi_variant\u001b[0m=\u001b[35mlocal_dev\u001b[0m\n",
      "\u001b[2m2024-12-09T06:16:02.276141Z\u001b[0m [\u001b[32m\u001b[1minfo     \u001b[0m] \u001b[1mFinished server process [134782]\u001b[0m [\u001b[0m\u001b[1m\u001b[34muvicorn.error\u001b[0m]\u001b[0m \u001b[36mapi_variant\u001b[0m=\u001b[35mlocal_dev\u001b[0m \u001b[36mcolor_message\u001b[0m=\u001b[35mFinished server process [\u001b[36m%d\u001b[0m]\u001b[0m\n",
      "\u001b[2m2024-12-09T06:16:02.282702Z\u001b[0m [\u001b[32m\u001b[1minfo     \u001b[0m] \u001b[1mStopping reloader process [134741]\u001b[0m [\u001b[0m\u001b[1m\u001b[34muvicorn.error\u001b[0m]\u001b[0m \u001b[36mapi_variant\u001b[0m=\u001b[35mlocal_dev\u001b[0m \u001b[36mcolor_message\u001b[0m=\u001b[35mStopping reloader process [\u001b[36m\u001b[1m134741\u001b[0m]\u001b[0m\n",
      "⏳ 실행 시간: 92.15초\n"
     ]
    }
   ],
   "source": [
    "!pip install -q \"langgraph-cli[inmem]\" python-dotenv\n",
    "!rm -rf langgraph-server\n",
    "!langgraph new langgraph-server --template react-agent-python\n",
    "!cp ../.env langgraph-server/.env\n",
    "!cd langgraph-server && pip install -q -e . && langgraph dev\n"
   ]
  }
 ],
 "metadata": {
  "kernelspec": {
   "display_name": ".venv",
   "language": "python",
   "name": "python3"
  },
  "language_info": {
   "codemirror_mode": {
    "name": "ipython",
    "version": 3
   },
   "file_extension": ".py",
   "mimetype": "text/x-python",
   "name": "python",
   "nbconvert_exporter": "python",
   "pygments_lexer": "ipython3",
   "version": "3.12.7"
  }
 },
 "nbformat": 4,
 "nbformat_minor": 2
}
