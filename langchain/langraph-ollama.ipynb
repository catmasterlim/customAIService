{
 "cells": [
  {
   "cell_type": "markdown",
   "metadata": {},
   "source": [
    "## LangGraph\n",
    "\n"
   ]
  },
  {
   "cell_type": "code",
   "execution_count": 25,
   "metadata": {},
   "outputs": [
    {
     "name": "stdout",
     "output_type": "stream",
     "text": [
      "🕒 현재 시간: 2024-12-06 11:25:37\n"
     ]
    },
    {
     "data": {
      "text/plain": [
       "True"
      ]
     },
     "execution_count": 25,
     "metadata": {},
     "output_type": "execute_result"
    },
    {
     "name": "stdout",
     "output_type": "stream",
     "text": [
      "⏳ 실행 시간: 0.00초\n"
     ]
    }
   ],
   "source": [
    "# 환경 변수 \n",
    "from dotenv import load_dotenv\n",
    "load_dotenv(override=True)\n"
   ]
  },
  {
   "cell_type": "code",
   "execution_count": 28,
   "metadata": {},
   "outputs": [
    {
     "name": "stdout",
     "output_type": "stream",
     "text": [
      "🕒 현재 시간: 2024-12-06 12:05:43\n"
     ]
    },
    {
     "data": {
      "text/plain": [
       "True"
      ]
     },
     "execution_count": 28,
     "metadata": {},
     "output_type": "execute_result"
    },
    {
     "name": "stdout",
     "output_type": "stream",
     "text": [
      "⏳ 실행 시간: 1.78초\n"
     ]
    }
   ],
   "source": [
    "!pip install -q langchain_community langgraph langchain-ollama\n",
    "!pip install -q transformers huggingface_hub langchain-huggingface \n",
    "\n",
    "# 환경 변수 \n",
    "from dotenv import load_dotenv\n",
    "load_dotenv()\n"
   ]
  },
  {
   "cell_type": "markdown",
   "metadata": {},
   "source": [
    "## Embedding model - HugginFace\n",
    "- free\n",
    "- small - 450m\n",
    "- memory - 1.04G\n",
    "- [korean leaderboard rank 10](https://github.com/su-park/mteb_ko_leaderboard)\n",
    "  - [ko-sroberta-multitask](https://huggingface.co/jhgan/ko-sroberta-multitask)\n",
    "    10\tko-sroberta-multitask\t1.04\t768\t512\tjhgan/ko-sroberta-multitask\n",
    "    \n",
    "    | no. | Model | Memory Usage (GB) | Embedding Dimensions | Max Tokens | Source |\n",
    "    | --- | --- | --- | --- | --- | --- |\n",
    "    | 1 | SFR-Embedding-2_R | 26.49 | 4096 | 32768 | Salesforce/SFR-Embedding-2_R |\n",
    "    | 10 | ko-sroberta-multitask | 1.04 | 768 | 512 | jhgan/ko-sroberta-multitask |"
   ]
  },
  {
   "cell_type": "code",
   "execution_count": 27,
   "metadata": {},
   "outputs": [
    {
     "name": "stdout",
     "output_type": "stream",
     "text": [
      "🕒 현재 시간: 2024-12-06 11:29:20\n",
      "⏳ 실행 시간: 3.57초\n"
     ]
    }
   ],
   "source": [
    "from langchain_huggingface import HuggingFaceEmbeddings\n",
    "\n",
    "embeddings = HuggingFaceEmbeddings(model_name=\"jhgan/ko-sroberta-multitask\")"
   ]
  },
  {
   "cell_type": "code",
   "execution_count": null,
   "metadata": {},
   "outputs": [],
   "source": [
    "from langchain_community.document_loaders.hugging_face_dataset import HuggingFaceDatasetLoader\n",
    "\n"
   ]
  },
  {
   "cell_type": "markdown",
   "metadata": {},
   "source": [
    "## Vector Store - FAISS\n",
    "- free\n",
    "- "
   ]
  },
  {
   "cell_type": "code",
   "execution_count": null,
   "metadata": {},
   "outputs": [],
   "source": [
    "from langchain_community.vectorstores import FAISS\n",
    "\n",
    "vector_store = FAISS(embedding_function=embeddings)"
   ]
  },
  {
   "cell_type": "markdown",
   "metadata": {},
   "source": [
    "## LLM - Ollama\n",
    "- free"
   ]
  },
  {
   "cell_type": "code",
   "execution_count": 29,
   "metadata": {},
   "outputs": [
    {
     "name": "stdout",
     "output_type": "stream",
     "text": [
      "🕒 현재 시간: 2024-12-06 12:05:49\n"
     ]
    },
    {
     "data": {
      "text/plain": [
       "'LangChain is a popular open-source toolkit for building decentralized applications (dApps) on top of blockchain networks, particularly Ethereum.\\n\\nTo break it down:\\n\\n1. **Language**: The name \"LangChain\" refers to the languages used to build dApps on top of blockchain platforms.\\n2. **Chain**: It\\'s short for \"chaincode,\" which is a self-executing smart contract that runs on a blockchain network.\\n3. **Toolkit**: LangChain provides a set of pre-built tools and libraries that developers can use to quickly create, deploy, and manage decentralized applications.\\n\\nLangChain makes it easier for developers to build dApps by providing a standardized interface for interacting with blockchain platforms, such as Ethereum. It enables developers to focus on building the logic and functionality of their dApp without worrying about the underlying infrastructure.\\n\\nSome key features of LangChain include:\\n\\n* **Language support**: LangChain supports multiple programming languages, including Solidity (for Ethereum), Chaincode (for Polkadot), and others.\\n* **Decentralized data management**: LangChain provides tools for managing decentralized data storage and retrieval, making it easier to build scalable dApps.\\n* **Smart contract development**: LangChain includes a set of libraries and tools for building smart contracts, which are self-executing scripts that run on blockchain networks.\\n\\nOverall, LangChain is an essential tool for developers looking to build decentralized applications on top of blockchain platforms.'"
      ]
     },
     "execution_count": 29,
     "metadata": {},
     "output_type": "execute_result"
    },
    {
     "name": "stdout",
     "output_type": "stream",
     "text": [
      "⏳ 실행 시간: 5.86초\n"
     ]
    }
   ],
   "source": [
    "from langchain_core.prompts import ChatPromptTemplate\n",
    "from langchain_ollama.llms import OllamaLLM\n",
    "\n",
    "template = \"\"\"Question: {question}\n",
    "\n",
    "Answer: Let's think step by step.\"\"\"\n",
    "\n",
    "prompt = ChatPromptTemplate.from_template(template)\n",
    "\n",
    "model = OllamaLLM(model=\"llama3.2\")\n",
    "\n",
    "chain = prompt | model\n",
    "\n",
    "chain.invoke({\"question\": \"What is LangChain?\"})"
   ]
  }
 ],
 "metadata": {
  "kernelspec": {
   "display_name": ".venv",
   "language": "python",
   "name": "python3"
  },
  "language_info": {
   "codemirror_mode": {
    "name": "ipython",
    "version": 3
   },
   "file_extension": ".py",
   "mimetype": "text/x-python",
   "name": "python",
   "nbconvert_exporter": "python",
   "pygments_lexer": "ipython3",
   "version": "3.10.12"
  }
 },
 "nbformat": 4,
 "nbformat_minor": 2
}
