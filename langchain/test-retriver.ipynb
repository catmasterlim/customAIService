{
 "cells": [
  {
   "cell_type": "code",
   "execution_count": 2,
   "metadata": {},
   "outputs": [
    {
     "name": "stdout",
     "output_type": "stream",
     "text": [
      "Requirement already satisfied: chromadb in /Users/stlim/Works/knd/customAIService/.venv/lib/python3.12/site-packages (0.5.20)\n",
      "Requirement already satisfied: tiktoken in /Users/stlim/Works/knd/customAIService/.venv/lib/python3.12/site-packages (0.8.0)\n",
      "Requirement already satisfied: transformers in /Users/stlim/Works/knd/customAIService/.venv/lib/python3.12/site-packages (4.46.3)\n",
      "Requirement already satisfied: sentence_transformers in /Users/stlim/Works/knd/customAIService/.venv/lib/python3.12/site-packages (3.3.1)\n",
      "Requirement already satisfied: langchain in /Users/stlim/Works/knd/customAIService/.venv/lib/python3.12/site-packages (0.3.9)\n",
      "Requirement already satisfied: pypdf in /Users/stlim/Works/knd/customAIService/.venv/lib/python3.12/site-packages (5.1.0)\n",
      "Requirement already satisfied: build>=1.0.3 in /Users/stlim/Works/knd/customAIService/.venv/lib/python3.12/site-packages (from chromadb) (1.2.2.post1)\n",
      "Requirement already satisfied: pydantic>=1.9 in /Users/stlim/Works/knd/customAIService/.venv/lib/python3.12/site-packages (from chromadb) (2.9.2)\n",
      "Requirement already satisfied: chroma-hnswlib==0.7.6 in /Users/stlim/Works/knd/customAIService/.venv/lib/python3.12/site-packages (from chromadb) (0.7.6)\n",
      "Requirement already satisfied: fastapi>=0.95.2 in /Users/stlim/Works/knd/customAIService/.venv/lib/python3.12/site-packages (from chromadb) (0.115.5)\n",
      "Requirement already satisfied: uvicorn>=0.18.3 in /Users/stlim/Works/knd/customAIService/.venv/lib/python3.12/site-packages (from uvicorn[standard]>=0.18.3->chromadb) (0.32.1)\n",
      "Requirement already satisfied: numpy>=1.22.5 in /Users/stlim/Works/knd/customAIService/.venv/lib/python3.12/site-packages (from chromadb) (1.26.4)\n",
      "Requirement already satisfied: posthog>=2.4.0 in /Users/stlim/Works/knd/customAIService/.venv/lib/python3.12/site-packages (from chromadb) (3.7.4)\n",
      "Requirement already satisfied: typing-extensions>=4.5.0 in /Users/stlim/Works/knd/customAIService/.venv/lib/python3.12/site-packages (from chromadb) (4.12.2)\n",
      "Requirement already satisfied: onnxruntime>=1.14.1 in /Users/stlim/Works/knd/customAIService/.venv/lib/python3.12/site-packages (from chromadb) (1.20.1)\n",
      "Requirement already satisfied: opentelemetry-api>=1.2.0 in /Users/stlim/Works/knd/customAIService/.venv/lib/python3.12/site-packages (from chromadb) (1.28.2)\n",
      "Requirement already satisfied: opentelemetry-exporter-otlp-proto-grpc>=1.2.0 in /Users/stlim/Works/knd/customAIService/.venv/lib/python3.12/site-packages (from chromadb) (1.28.2)\n",
      "Requirement already satisfied: opentelemetry-instrumentation-fastapi>=0.41b0 in /Users/stlim/Works/knd/customAIService/.venv/lib/python3.12/site-packages (from chromadb) (0.49b2)\n",
      "Requirement already satisfied: opentelemetry-sdk>=1.2.0 in /Users/stlim/Works/knd/customAIService/.venv/lib/python3.12/site-packages (from chromadb) (1.28.2)\n",
      "Requirement already satisfied: tokenizers>=0.13.2 in /Users/stlim/Works/knd/customAIService/.venv/lib/python3.12/site-packages (from chromadb) (0.20.3)\n",
      "Requirement already satisfied: pypika>=0.48.9 in /Users/stlim/Works/knd/customAIService/.venv/lib/python3.12/site-packages (from chromadb) (0.48.9)\n",
      "Requirement already satisfied: tqdm>=4.65.0 in /Users/stlim/Works/knd/customAIService/.venv/lib/python3.12/site-packages (from chromadb) (4.67.0)\n",
      "Requirement already satisfied: overrides>=7.3.1 in /Users/stlim/Works/knd/customAIService/.venv/lib/python3.12/site-packages (from chromadb) (7.7.0)\n",
      "Requirement already satisfied: importlib-resources in /Users/stlim/Works/knd/customAIService/.venv/lib/python3.12/site-packages (from chromadb) (6.4.5)\n",
      "Requirement already satisfied: grpcio>=1.58.0 in /Users/stlim/Works/knd/customAIService/.venv/lib/python3.12/site-packages (from chromadb) (1.68.0)\n",
      "Requirement already satisfied: bcrypt>=4.0.1 in /Users/stlim/Works/knd/customAIService/.venv/lib/python3.12/site-packages (from chromadb) (4.2.1)\n",
      "Requirement already satisfied: typer>=0.9.0 in /Users/stlim/Works/knd/customAIService/.venv/lib/python3.12/site-packages (from chromadb) (0.13.1)\n",
      "Requirement already satisfied: kubernetes>=28.1.0 in /Users/stlim/Works/knd/customAIService/.venv/lib/python3.12/site-packages (from chromadb) (31.0.0)\n",
      "Requirement already satisfied: tenacity>=8.2.3 in /Users/stlim/Works/knd/customAIService/.venv/lib/python3.12/site-packages (from chromadb) (9.0.0)\n",
      "Requirement already satisfied: PyYAML>=6.0.0 in /Users/stlim/Works/knd/customAIService/.venv/lib/python3.12/site-packages (from chromadb) (6.0.2)\n",
      "Requirement already satisfied: mmh3>=4.0.1 in /Users/stlim/Works/knd/customAIService/.venv/lib/python3.12/site-packages (from chromadb) (5.0.1)\n",
      "Requirement already satisfied: orjson>=3.9.12 in /Users/stlim/Works/knd/customAIService/.venv/lib/python3.12/site-packages (from chromadb) (3.10.11)\n",
      "Requirement already satisfied: httpx>=0.27.0 in /Users/stlim/Works/knd/customAIService/.venv/lib/python3.12/site-packages (from chromadb) (0.27.2)\n",
      "Requirement already satisfied: rich>=10.11.0 in /Users/stlim/Works/knd/customAIService/.venv/lib/python3.12/site-packages (from chromadb) (13.9.4)\n",
      "Requirement already satisfied: regex>=2022.1.18 in /Users/stlim/Works/knd/customAIService/.venv/lib/python3.12/site-packages (from tiktoken) (2024.11.6)\n",
      "Requirement already satisfied: requests>=2.26.0 in /Users/stlim/Works/knd/customAIService/.venv/lib/python3.12/site-packages (from tiktoken) (2.32.3)\n",
      "Requirement already satisfied: filelock in /Users/stlim/Works/knd/customAIService/.venv/lib/python3.12/site-packages (from transformers) (3.16.1)\n",
      "Requirement already satisfied: huggingface-hub<1.0,>=0.23.2 in /Users/stlim/Works/knd/customAIService/.venv/lib/python3.12/site-packages (from transformers) (0.26.2)\n",
      "Requirement already satisfied: packaging>=20.0 in /Users/stlim/Works/knd/customAIService/.venv/lib/python3.12/site-packages (from transformers) (24.2)\n",
      "Requirement already satisfied: safetensors>=0.4.1 in /Users/stlim/Works/knd/customAIService/.venv/lib/python3.12/site-packages (from transformers) (0.4.5)\n",
      "Requirement already satisfied: torch>=1.11.0 in /Users/stlim/Works/knd/customAIService/.venv/lib/python3.12/site-packages (from sentence_transformers) (2.5.1)\n",
      "Requirement already satisfied: scikit-learn in /Users/stlim/Works/knd/customAIService/.venv/lib/python3.12/site-packages (from sentence_transformers) (1.5.2)\n",
      "Requirement already satisfied: scipy in /Users/stlim/Works/knd/customAIService/.venv/lib/python3.12/site-packages (from sentence_transformers) (1.14.1)\n",
      "Requirement already satisfied: Pillow in /Users/stlim/Works/knd/customAIService/.venv/lib/python3.12/site-packages (from sentence_transformers) (11.0.0)\n",
      "Requirement already satisfied: SQLAlchemy<3,>=1.4 in /Users/stlim/Works/knd/customAIService/.venv/lib/python3.12/site-packages (from langchain) (2.0.35)\n",
      "Requirement already satisfied: aiohttp<4.0.0,>=3.8.3 in /Users/stlim/Works/knd/customAIService/.venv/lib/python3.12/site-packages (from langchain) (3.11.7)\n",
      "Requirement already satisfied: langchain-core<0.4.0,>=0.3.21 in /Users/stlim/Works/knd/customAIService/.venv/lib/python3.12/site-packages (from langchain) (0.3.21)\n",
      "Requirement already satisfied: langchain-text-splitters<0.4.0,>=0.3.0 in /Users/stlim/Works/knd/customAIService/.venv/lib/python3.12/site-packages (from langchain) (0.3.2)\n",
      "Requirement already satisfied: langsmith<0.2.0,>=0.1.17 in /Users/stlim/Works/knd/customAIService/.venv/lib/python3.12/site-packages (from langchain) (0.1.144)\n",
      "Requirement already satisfied: aiohappyeyeballs>=2.3.0 in /Users/stlim/Works/knd/customAIService/.venv/lib/python3.12/site-packages (from aiohttp<4.0.0,>=3.8.3->langchain) (2.4.3)\n",
      "Requirement already satisfied: aiosignal>=1.1.2 in /Users/stlim/Works/knd/customAIService/.venv/lib/python3.12/site-packages (from aiohttp<4.0.0,>=3.8.3->langchain) (1.3.1)\n",
      "Requirement already satisfied: attrs>=17.3.0 in /Users/stlim/Works/knd/customAIService/.venv/lib/python3.12/site-packages (from aiohttp<4.0.0,>=3.8.3->langchain) (24.2.0)\n",
      "Requirement already satisfied: frozenlist>=1.1.1 in /Users/stlim/Works/knd/customAIService/.venv/lib/python3.12/site-packages (from aiohttp<4.0.0,>=3.8.3->langchain) (1.5.0)\n",
      "Requirement already satisfied: multidict<7.0,>=4.5 in /Users/stlim/Works/knd/customAIService/.venv/lib/python3.12/site-packages (from aiohttp<4.0.0,>=3.8.3->langchain) (6.1.0)\n",
      "Requirement already satisfied: propcache>=0.2.0 in /Users/stlim/Works/knd/customAIService/.venv/lib/python3.12/site-packages (from aiohttp<4.0.0,>=3.8.3->langchain) (0.2.0)\n",
      "Requirement already satisfied: yarl<2.0,>=1.17.0 in /Users/stlim/Works/knd/customAIService/.venv/lib/python3.12/site-packages (from aiohttp<4.0.0,>=3.8.3->langchain) (1.18.0)\n",
      "Requirement already satisfied: pyproject_hooks in /Users/stlim/Works/knd/customAIService/.venv/lib/python3.12/site-packages (from build>=1.0.3->chromadb) (1.2.0)\n",
      "Requirement already satisfied: starlette<0.42.0,>=0.40.0 in /Users/stlim/Works/knd/customAIService/.venv/lib/python3.12/site-packages (from fastapi>=0.95.2->chromadb) (0.41.3)\n",
      "Requirement already satisfied: anyio in /Users/stlim/Works/knd/customAIService/.venv/lib/python3.12/site-packages (from httpx>=0.27.0->chromadb) (4.6.2.post1)\n",
      "Requirement already satisfied: certifi in /Users/stlim/Works/knd/customAIService/.venv/lib/python3.12/site-packages (from httpx>=0.27.0->chromadb) (2024.8.30)\n",
      "Requirement already satisfied: httpcore==1.* in /Users/stlim/Works/knd/customAIService/.venv/lib/python3.12/site-packages (from httpx>=0.27.0->chromadb) (1.0.7)\n",
      "Requirement already satisfied: idna in /Users/stlim/Works/knd/customAIService/.venv/lib/python3.12/site-packages (from httpx>=0.27.0->chromadb) (3.10)\n",
      "Requirement already satisfied: sniffio in /Users/stlim/Works/knd/customAIService/.venv/lib/python3.12/site-packages (from httpx>=0.27.0->chromadb) (1.3.1)\n",
      "Requirement already satisfied: h11<0.15,>=0.13 in /Users/stlim/Works/knd/customAIService/.venv/lib/python3.12/site-packages (from httpcore==1.*->httpx>=0.27.0->chromadb) (0.14.0)\n",
      "Requirement already satisfied: fsspec>=2023.5.0 in /Users/stlim/Works/knd/customAIService/.venv/lib/python3.12/site-packages (from huggingface-hub<1.0,>=0.23.2->transformers) (2024.10.0)\n",
      "Requirement already satisfied: six>=1.9.0 in /Users/stlim/Works/knd/customAIService/.venv/lib/python3.12/site-packages (from kubernetes>=28.1.0->chromadb) (1.16.0)\n",
      "Requirement already satisfied: python-dateutil>=2.5.3 in /Users/stlim/Works/knd/customAIService/.venv/lib/python3.12/site-packages (from kubernetes>=28.1.0->chromadb) (2.8.2)\n",
      "Requirement already satisfied: google-auth>=1.0.1 in /Users/stlim/Works/knd/customAIService/.venv/lib/python3.12/site-packages (from kubernetes>=28.1.0->chromadb) (2.36.0)\n",
      "Requirement already satisfied: websocket-client!=0.40.0,!=0.41.*,!=0.42.*,>=0.32.0 in /Users/stlim/Works/knd/customAIService/.venv/lib/python3.12/site-packages (from kubernetes>=28.1.0->chromadb) (1.8.0)\n",
      "Requirement already satisfied: requests-oauthlib in /Users/stlim/Works/knd/customAIService/.venv/lib/python3.12/site-packages (from kubernetes>=28.1.0->chromadb) (2.0.0)\n",
      "Requirement already satisfied: oauthlib>=3.2.2 in /Users/stlim/Works/knd/customAIService/.venv/lib/python3.12/site-packages (from kubernetes>=28.1.0->chromadb) (3.2.2)\n",
      "Requirement already satisfied: urllib3>=1.24.2 in /Users/stlim/Works/knd/customAIService/.venv/lib/python3.12/site-packages (from kubernetes>=28.1.0->chromadb) (2.2.3)\n",
      "Requirement already satisfied: durationpy>=0.7 in /Users/stlim/Works/knd/customAIService/.venv/lib/python3.12/site-packages (from kubernetes>=28.1.0->chromadb) (0.9)\n",
      "Requirement already satisfied: jsonpatch<2.0,>=1.33 in /Users/stlim/Works/knd/customAIService/.venv/lib/python3.12/site-packages (from langchain-core<0.4.0,>=0.3.21->langchain) (1.33)\n",
      "Requirement already satisfied: requests-toolbelt<2.0.0,>=1.0.0 in /Users/stlim/Works/knd/customAIService/.venv/lib/python3.12/site-packages (from langsmith<0.2.0,>=0.1.17->langchain) (1.0.0)\n",
      "Requirement already satisfied: coloredlogs in /Users/stlim/Works/knd/customAIService/.venv/lib/python3.12/site-packages (from onnxruntime>=1.14.1->chromadb) (15.0.1)\n",
      "Requirement already satisfied: flatbuffers in /Users/stlim/Works/knd/customAIService/.venv/lib/python3.12/site-packages (from onnxruntime>=1.14.1->chromadb) (24.3.25)\n",
      "Requirement already satisfied: protobuf in /Users/stlim/Works/knd/customAIService/.venv/lib/python3.12/site-packages (from onnxruntime>=1.14.1->chromadb) (5.29.0)\n",
      "Requirement already satisfied: sympy in /Users/stlim/Works/knd/customAIService/.venv/lib/python3.12/site-packages (from onnxruntime>=1.14.1->chromadb) (1.13.1)\n",
      "Requirement already satisfied: deprecated>=1.2.6 in /Users/stlim/Works/knd/customAIService/.venv/lib/python3.12/site-packages (from opentelemetry-api>=1.2.0->chromadb) (1.2.15)\n",
      "Requirement already satisfied: importlib-metadata<=8.5.0,>=6.0 in /Users/stlim/Works/knd/customAIService/.venv/lib/python3.12/site-packages (from opentelemetry-api>=1.2.0->chromadb) (8.5.0)\n",
      "Requirement already satisfied: googleapis-common-protos~=1.52 in /Users/stlim/Works/knd/customAIService/.venv/lib/python3.12/site-packages (from opentelemetry-exporter-otlp-proto-grpc>=1.2.0->chromadb) (1.66.0)\n",
      "Requirement already satisfied: opentelemetry-exporter-otlp-proto-common==1.28.2 in /Users/stlim/Works/knd/customAIService/.venv/lib/python3.12/site-packages (from opentelemetry-exporter-otlp-proto-grpc>=1.2.0->chromadb) (1.28.2)\n",
      "Requirement already satisfied: opentelemetry-proto==1.28.2 in /Users/stlim/Works/knd/customAIService/.venv/lib/python3.12/site-packages (from opentelemetry-exporter-otlp-proto-grpc>=1.2.0->chromadb) (1.28.2)\n",
      "Requirement already satisfied: opentelemetry-instrumentation-asgi==0.49b2 in /Users/stlim/Works/knd/customAIService/.venv/lib/python3.12/site-packages (from opentelemetry-instrumentation-fastapi>=0.41b0->chromadb) (0.49b2)\n",
      "Requirement already satisfied: opentelemetry-instrumentation==0.49b2 in /Users/stlim/Works/knd/customAIService/.venv/lib/python3.12/site-packages (from opentelemetry-instrumentation-fastapi>=0.41b0->chromadb) (0.49b2)\n",
      "Requirement already satisfied: opentelemetry-semantic-conventions==0.49b2 in /Users/stlim/Works/knd/customAIService/.venv/lib/python3.12/site-packages (from opentelemetry-instrumentation-fastapi>=0.41b0->chromadb) (0.49b2)\n",
      "Requirement already satisfied: opentelemetry-util-http==0.49b2 in /Users/stlim/Works/knd/customAIService/.venv/lib/python3.12/site-packages (from opentelemetry-instrumentation-fastapi>=0.41b0->chromadb) (0.49b2)\n",
      "Requirement already satisfied: wrapt<2.0.0,>=1.0.0 in /Users/stlim/Works/knd/customAIService/.venv/lib/python3.12/site-packages (from opentelemetry-instrumentation==0.49b2->opentelemetry-instrumentation-fastapi>=0.41b0->chromadb) (1.17.0)\n",
      "Requirement already satisfied: asgiref~=3.0 in /Users/stlim/Works/knd/customAIService/.venv/lib/python3.12/site-packages (from opentelemetry-instrumentation-asgi==0.49b2->opentelemetry-instrumentation-fastapi>=0.41b0->chromadb) (3.8.1)\n",
      "Requirement already satisfied: monotonic>=1.5 in /Users/stlim/Works/knd/customAIService/.venv/lib/python3.12/site-packages (from posthog>=2.4.0->chromadb) (1.6)\n",
      "Requirement already satisfied: backoff>=1.10.0 in /Users/stlim/Works/knd/customAIService/.venv/lib/python3.12/site-packages (from posthog>=2.4.0->chromadb) (2.2.1)\n",
      "Requirement already satisfied: annotated-types>=0.6.0 in /Users/stlim/Works/knd/customAIService/.venv/lib/python3.12/site-packages (from pydantic>=1.9->chromadb) (0.7.0)\n",
      "Requirement already satisfied: pydantic-core==2.23.4 in /Users/stlim/Works/knd/customAIService/.venv/lib/python3.12/site-packages (from pydantic>=1.9->chromadb) (2.23.4)\n",
      "Requirement already satisfied: charset-normalizer<4,>=2 in /Users/stlim/Works/knd/customAIService/.venv/lib/python3.12/site-packages (from requests>=2.26.0->tiktoken) (3.4.0)\n",
      "Requirement already satisfied: markdown-it-py>=2.2.0 in /Users/stlim/Works/knd/customAIService/.venv/lib/python3.12/site-packages (from rich>=10.11.0->chromadb) (3.0.0)\n",
      "Requirement already satisfied: pygments<3.0.0,>=2.13.0 in /Users/stlim/Works/knd/customAIService/.venv/lib/python3.12/site-packages (from rich>=10.11.0->chromadb) (2.18.0)\n",
      "Requirement already satisfied: networkx in /Users/stlim/Works/knd/customAIService/.venv/lib/python3.12/site-packages (from torch>=1.11.0->sentence_transformers) (3.4.2)\n",
      "Requirement already satisfied: jinja2 in /Users/stlim/Works/knd/customAIService/.venv/lib/python3.12/site-packages (from torch>=1.11.0->sentence_transformers) (3.1.4)\n",
      "Requirement already satisfied: setuptools in /Users/stlim/Works/knd/customAIService/.venv/lib/python3.12/site-packages (from torch>=1.11.0->sentence_transformers) (75.6.0)\n",
      "Requirement already satisfied: mpmath<1.4,>=1.1.0 in /Users/stlim/Works/knd/customAIService/.venv/lib/python3.12/site-packages (from sympy->onnxruntime>=1.14.1->chromadb) (1.3.0)\n",
      "Requirement already satisfied: click>=8.0.0 in /Users/stlim/Works/knd/customAIService/.venv/lib/python3.12/site-packages (from typer>=0.9.0->chromadb) (8.1.7)\n",
      "Requirement already satisfied: shellingham>=1.3.0 in /Users/stlim/Works/knd/customAIService/.venv/lib/python3.12/site-packages (from typer>=0.9.0->chromadb) (1.5.4)\n",
      "Requirement already satisfied: httptools>=0.6.3 in /Users/stlim/Works/knd/customAIService/.venv/lib/python3.12/site-packages (from uvicorn[standard]>=0.18.3->chromadb) (0.6.4)\n",
      "Requirement already satisfied: python-dotenv>=0.13 in /Users/stlim/Works/knd/customAIService/.venv/lib/python3.12/site-packages (from uvicorn[standard]>=0.18.3->chromadb) (1.0.1)\n",
      "Requirement already satisfied: uvloop!=0.15.0,!=0.15.1,>=0.14.0 in /Users/stlim/Works/knd/customAIService/.venv/lib/python3.12/site-packages (from uvicorn[standard]>=0.18.3->chromadb) (0.21.0)\n",
      "Requirement already satisfied: watchfiles>=0.13 in /Users/stlim/Works/knd/customAIService/.venv/lib/python3.12/site-packages (from uvicorn[standard]>=0.18.3->chromadb) (1.0.0)\n",
      "Requirement already satisfied: websockets>=10.4 in /Users/stlim/Works/knd/customAIService/.venv/lib/python3.12/site-packages (from uvicorn[standard]>=0.18.3->chromadb) (12.0)\n",
      "Requirement already satisfied: joblib>=1.2.0 in /Users/stlim/Works/knd/customAIService/.venv/lib/python3.12/site-packages (from scikit-learn->sentence_transformers) (1.4.2)\n",
      "Requirement already satisfied: threadpoolctl>=3.1.0 in /Users/stlim/Works/knd/customAIService/.venv/lib/python3.12/site-packages (from scikit-learn->sentence_transformers) (3.5.0)\n",
      "Requirement already satisfied: cachetools<6.0,>=2.0.0 in /Users/stlim/Works/knd/customAIService/.venv/lib/python3.12/site-packages (from google-auth>=1.0.1->kubernetes>=28.1.0->chromadb) (5.5.0)\n",
      "Requirement already satisfied: pyasn1-modules>=0.2.1 in /Users/stlim/Works/knd/customAIService/.venv/lib/python3.12/site-packages (from google-auth>=1.0.1->kubernetes>=28.1.0->chromadb) (0.4.1)\n",
      "Requirement already satisfied: rsa<5,>=3.1.4 in /Users/stlim/Works/knd/customAIService/.venv/lib/python3.12/site-packages (from google-auth>=1.0.1->kubernetes>=28.1.0->chromadb) (4.9)\n",
      "Requirement already satisfied: zipp>=3.20 in /Users/stlim/Works/knd/customAIService/.venv/lib/python3.12/site-packages (from importlib-metadata<=8.5.0,>=6.0->opentelemetry-api>=1.2.0->chromadb) (3.21.0)\n",
      "Requirement already satisfied: jsonpointer>=1.9 in /Users/stlim/Works/knd/customAIService/.venv/lib/python3.12/site-packages (from jsonpatch<2.0,>=1.33->langchain-core<0.4.0,>=0.3.21->langchain) (3.0.0)\n",
      "Requirement already satisfied: mdurl~=0.1 in /Users/stlim/Works/knd/customAIService/.venv/lib/python3.12/site-packages (from markdown-it-py>=2.2.0->rich>=10.11.0->chromadb) (0.1.2)\n",
      "Requirement already satisfied: humanfriendly>=9.1 in /Users/stlim/Works/knd/customAIService/.venv/lib/python3.12/site-packages (from coloredlogs->onnxruntime>=1.14.1->chromadb) (10.0)\n",
      "Requirement already satisfied: MarkupSafe>=2.0 in /Users/stlim/Works/knd/customAIService/.venv/lib/python3.12/site-packages (from jinja2->torch>=1.11.0->sentence_transformers) (2.1.5)\n",
      "Requirement already satisfied: pyasn1<0.7.0,>=0.4.6 in /Users/stlim/Works/knd/customAIService/.venv/lib/python3.12/site-packages (from pyasn1-modules>=0.2.1->google-auth>=1.0.1->kubernetes>=28.1.0->chromadb) (0.6.1)\n"
     ]
    }
   ],
   "source": [
    "# 강의 https://www.youtube.com/watch?v=tQUtBR3K1TI\n",
    "#https://colab.research.google.com/drive/1S3jKF6Jofvl48fHUFqQwS-0iWMgl-pWl?usp=sharing#scrollTo=pWiMRQC1Kikl\n",
    "!pip install -qchromadb tiktoken transformers sentence_transformers langchain pypdf\n"
   ]
  },
  {
   "cell_type": "code",
   "execution_count": 1,
   "metadata": {},
   "outputs": [],
   "source": [
    "import tiktoken\n",
    "\n",
    "tokenizer = tiktoken.get_encoding(\"cl100k_base\")\n",
    "\n",
    "def tiktoken_len(text):\n",
    "    tokens = tokenizer.encode(text)\n",
    "    return len(tokens)"
   ]
  },
  {
   "cell_type": "code",
   "execution_count": 2,
   "metadata": {},
   "outputs": [
    {
     "name": "stdout",
     "output_type": "stream",
     "text": [
      "/Users/stlim/Works/knd/customAIService/test-data/GR_07_ver1066.pdf\n"
     ]
    },
    {
     "name": "stderr",
     "output_type": "stream",
     "text": [
      "/var/folders/50/24dk5fd12ld821qvqv34k85m0000gn/T/ipykernel_18387/740814055.py:19: LangChainDeprecationWarning: The class `HuggingFaceEmbeddings` was deprecated in LangChain 0.2.2 and will be removed in 1.0. An updated version of the class exists in the :class:`~langchain-huggingface package and should be used instead. To use it run `pip install -U :class:`~langchain-huggingface` and import as `from :class:`~langchain_huggingface import HuggingFaceEmbeddings``.\n",
      "  hf = HuggingFaceEmbeddings(\n"
     ]
    }
   ],
   "source": [
    "\n",
    "from langchain.text_splitter import RecursiveCharacterTextSplitter\n",
    "from langchain.vectorstores import Chroma\n",
    "from langchain.document_loaders import PyPDFLoader\n",
    "\n",
    "import os.path        \n",
    "print(os.path.abspath(\"../test-data/GR_07_ver1066.pdf\"))\n",
    "\n",
    "loader = PyPDFLoader(\"../test-data/GR_07_ver1066.pdf\")\n",
    "pages = loader.load_and_split()\n",
    "\n",
    "text_splitter = RecursiveCharacterTextSplitter(chunk_size=500, chunk_overlap=50, length_function = tiktoken_len)\n",
    "texts = text_splitter.split_documents(pages)\n",
    "\n",
    "from langchain.embeddings import HuggingFaceEmbeddings\n",
    "\n",
    "model_name = \"jhgan/ko-sbert-nli\"\n",
    "model_kwargs = {'device': 'cpu'}\n",
    "encode_kwargs = {'normalize_embeddings': True}\n",
    "hf = HuggingFaceEmbeddings(\n",
    "    model_name=model_name,\n",
    "    model_kwargs=model_kwargs,\n",
    "    encode_kwargs=encode_kwargs\n",
    ")\n",
    "\n",
    "docsearch = Chroma.from_documents(texts, hf)"
   ]
  },
  {
   "cell_type": "code",
   "execution_count": 3,
   "metadata": {},
   "outputs": [
    {
     "name": "stderr",
     "output_type": "stream",
     "text": [
      "/var/folders/50/24dk5fd12ld821qvqv34k85m0000gn/T/ipykernel_18387/476702568.py:8: LangChainDeprecationWarning: The class `ChatOllama` was deprecated in LangChain 0.3.1 and will be removed in 1.0.0. An updated version of the class exists in the :class:`~langchain-ollama package and should be used instead. To use it run `pip install -U :class:`~langchain-ollama` and import as `from :class:`~langchain_ollama import ChatOllama``.\n",
      "  llm = ChatOllama(model=model_name\n"
     ]
    }
   ],
   "source": [
    "from langchain.chains import RetrievalQA\n",
    "from langchain.chat_models import ChatOllama\n",
    "from langchain_ollama.llms import OllamaLLM\n",
    "\n",
    "from langchain.callbacks.streaming_stdout import StreamingStdOutCallbackHandler\n",
    "# model_name = \"EEVE-Korean-Q5_K_M\"\n",
    "model_name = \"llama3.2-vision\"\n",
    "llm = ChatOllama(model=model_name\n",
    "                 , temperature=0\n",
    "                 , streaming=True\n",
    "                 , callbacks=[StreamingStdOutCallbackHandler()]\n",
    "                 )\n"
   ]
  },
  {
   "cell_type": "code",
   "execution_count": 5,
   "metadata": {},
   "outputs": [
    {
     "name": "stderr",
     "output_type": "stream",
     "text": [
      "Number of requested results 6 is greater than number of elements in index 2, updating n_results = 2\n"
     ]
    },
    {
     "name": "stdout",
     "output_type": "stream",
     "text": [
      "리스트를 위한 디자인 규칙을 요약하면 다음과 같습니다.\n",
      "\n",
      "**데이터 목록**\n",
      "\n",
      "* 여러 정보가 같이 표시될 때 각 정보마다 1 줄씩 표시\n",
      "* 잘리는 경우 말줄임표 사용\n",
      "* 최대 텍스트 표시 라인 수는 화면 정의에 따라 결정\n",
      "* 번역 시 잘리거나 공간이 남지 않도록 텍스트를 조정하거나 리스트 가변 적용 필요\n",
      "\n",
      "**메뉴/기능/설정 목록**\n",
      "\n",
      "* 고정된 레이블 텍스트를 표시하므로, 리스트 항목 높이는 고정\n",
      "* 항목을 탭할 때의 동작을 알 수 있도록 리스트 우측에 꺾쇠(진입), 스위치 버튼(토글), 설정값(옵션들 중 선택)을 제공하거나 표시\n",
      "* 리스트 항목 높이가 고정된 상태에서 최대 2 라인까지 텍스트 표시 가능하며, 더 길어질 경우 의미 전달에 문제가 없다면 말줄임표 사용\n",
      "* 리스트 우측 끝에 표시되는 설정값은 1 라인까지 텍스트 표시 가능하며, 더 길어질 경우 말줄임표 사용\n",
      "* 필요한 경우 설명 텍스트를 포함할 수 있으며, 설명 텍스트는 번역 시 잘리거나 공간이 남지 않도록 해야 하며, 이런 현상이 있는 항목에는 가변 리스트 적용 가능"
     ]
    }
   ],
   "source": [
    "\n",
    "\n",
    "qa = RetrievalQA.from_chain_type(llm = llm,\n",
    "                                 chain_type = \"stuff\",\n",
    "                                 retriever = docsearch.as_retriever(\n",
    "                                    search_type=\"mmr\",\n",
    "                                    search_kwargs={'k':3, 'fetch_k': 6}),\n",
    "                                 return_source_documents = True)\n",
    "\n",
    "# query = \"테스트케이스로 만들어줘. 테스트 케이스별로 출력. 형식은 markdown 파일로 해줘. 언어는 한글로 해줘\"\n",
    "query = \"한글로 요약해줘. 언어는 한글로 해줘\"\n",
    "\n",
    "result = qa(query)"
   ]
  },
  {
   "cell_type": "code",
   "execution_count": 8,
   "metadata": {},
   "outputs": [
    {
     "name": "stdout",
     "output_type": "stream",
     "text": [
      "{'query': '체크리스트로 만들어줘. 형식은 html 으로 해줘', 'result': '사용자님, 요청하신 대로 Jira Workflow Action Handler 플러그인에 대한 정보를 체크리스트 형식으로 정리해 드렸습니다:\\n\\n1. 설치 방법:\\n   a. 권한: Jira Administrator\\n   b. 시스템 메뉴로 이동 -> 관리 앱 -> 앱 업로드 -> \"플러그인 파일\" 선택 -> 업로드 및 설치\\n   c. 새 앱으로 이동 -> \"Workflow Action Handler\" 검색 -> 설치 -> 라이선스 추가 또는 구매\\n\\n2. Jira Admin 설정:\\n   a. 구성 옵션\\n   b. 설정\\n   c. 기타 운영\\n\\n3. 앱 가이드:\\n   a. 화면 소개:\\n      i. 검색창 + 결과: 액션 + 적용된 전환 보기: 상태 -> 상태\\n      ii. 상태 처리 + 전환 추가 + 유형 추가 등\\n      iii. 각 액션별 사용된 플러그인 이름과 개발사 정보\\n\\n   b. 검색 방법:\\n      i. 기본 검색 형식: 액션 + 타입 + 상태 등으로 검색\\n      ii. 액션 텍스트 검색\\n      iii. 트리거 조건 검증자 후처리 함수\\n      iv. 플러그인 이름 및 개발사\\n\\n   c. 검색 결과에 따른 동작:\\n      i. 검색 결과 워크플로우 전환\\n      ii. 액션 + 순서 + 타입 + 플러그인 정보 + 상태 전환 보기 + 속성 + 삭제 + 편집\\n\\n   d. 전체 Workflow 보기:\\n      i. 마우스 오버: 전환 화면 아래 작은 워크플로우 이미지에 마우스를 올려놓으면 큰 이미지 생성\\n\\n   e. 편집/삭제:\\n      i. 편집: 검색된 액션에 대해 \\'편집\\' 선택 시 \"편집\" 화면 표시\\n      ii. 저장 후 새로고침, 드래프트 저장\\n\\n   f. 상태 생성: 버튼 위치는 전환 영역 상단\\n      i. DoTo + Inprogress + done에 따라 상태 생성하는 화면 연계하여 진행\\n\\n   g. 전환 생성:\\n      i. \"From\", \"To\"로 상태 입력할 수 있는 화면으로 이동 후 전환 적용 가능\\n      ii. 화면 추가 가능\\n\\n이 정보가 Jira Workflow Action Handler 플러그인에 대해 이해하는 데 도움이 되길 바랍니다! 궁금한 점이 더 있으시면 알려주세요.', 'source_documents': [Document(metadata={'page': 0, 'source': '../test-data/Workflow Action Handler Documentation.pdf'}, page_content='Workflow Action Handler Documentation \\n -> plugin documentation guide \\n1. 설치 방법 \\n 권한: jira administrator \\nGo to -> system menu \\n➔ manage apps -> upload apps -> select “plugin file” -> upload and install \\n➔ New apps -> search “workflow action handler” -> install -> add license or purchase \\n2. Jira Admin configuration \\n⚫ Configuration option \\n⚫ Settings \\n⚫ Other operation \\n3. App guide:  \\n1) 화면 소개 \\n 검색란 + 결과: Action + 적용된 Transition view: Status to Status + 적용 화면 \\n Status handling + Transition Add + Type add 등 \\n각 action별 사용된 plugin 이름과 개발사 정보: +  \\n \\n \\n2) 검색 방법 \\n Action + type + status 등으로 Basic Search 형식으로 \\nAction Text Search \\nType Trigger Condition Validator Post-Function \\nPlugin Name 개발사 \\n \\n3) 검색 결과에 따른 동작 \\nSearch Result Workflow Transition \\nAction + order + type + plugin 이름 + 개발사 Status Transition view + Property + delete + \\nedit'), Document(metadata={'page': 1, 'source': '../test-data/Workflow Action Handler Documentation.pdf'}, page_content='Action list | Order | Type | plugin info. Transition Status \\nMini-size workflow: mouse hover(size up) \\n \\n4) Edit / Delete \\nEdit: 검색된 Action에 대해 Edit 선택 시 “Edit” 화면이 표시 \\n저장 후 Refresh되고, Draft 저장 ->  \\n5) 전체 Workflow 보기 \\n > mouse hover: transition 화면 아래 작은 workflow 이미지에 mouse 포인터를 두면 workflow 큰 이미지 생성 \\n6) Status 생성: 버튼 위치는 Transition 영역 상단 \\n > DoTo + Inprogress + done에 따라 Status를 생성하는 화면 연계하여 진행함. \\n7) Transition 생성 \\n > “From”, “To” 로 Status를 입력할 수 있는 화면으로 이동 후 Transition 적용 \\n > 화면도 추가 가능 \\n8) Type별 Action 추가')]}\n",
      "<class 'dict'>\n",
      "[{'page': 0, 'source': '../test-data/Workflow Action Handler Documentation.pdf'}, {'page': 1, 'source': '../test-data/Workflow Action Handler Documentation.pdf'}]\n",
      "사용자님, 요청하신 대로 Jira Workflow Action Handler 플러그인에 대한 정보를 체크리스트 형식으로 정리해 드렸습니다:\n",
      "\n",
      "1. 설치 방법:\n",
      "   a. 권한: Jira Administrator\n",
      "   b. 시스템 메뉴로 이동 -> 관리 앱 -> 앱 업로드 -> \"플러그인 파일\" 선택 -> 업로드 및 설치\n",
      "   c. 새 앱으로 이동 -> \"Workflow Action Handler\" 검색 -> 설치 -> 라이선스 추가 또는 구매\n",
      "\n",
      "2. Jira Admin 설정:\n",
      "   a. 구성 옵션\n",
      "   b. 설정\n",
      "   c. 기타 운영\n",
      "\n",
      "3. 앱 가이드:\n",
      "   a. 화면 소개:\n",
      "      i. 검색창 + 결과: 액션 + 적용된 전환 보기: 상태 -> 상태\n",
      "      ii. 상태 처리 + 전환 추가 + 유형 추가 등\n",
      "      iii. 각 액션별 사용된 플러그인 이름과 개발사 정보\n",
      "\n",
      "   b. 검색 방법:\n",
      "      i. 기본 검색 형식: 액션 + 타입 + 상태 등으로 검색\n",
      "      ii. 액션 텍스트 검색\n",
      "      iii. 트리거 조건 검증자 후처리 함수\n",
      "      iv. 플러그인 이름 및 개발사\n",
      "\n",
      "   c. 검색 결과에 따른 동작:\n",
      "      i. 검색 결과 워크플로우 전환\n",
      "      ii. 액션 + 순서 + 타입 + 플러그인 정보 + 상태 전환 보기 + 속성 + 삭제 + 편집\n",
      "\n",
      "   d. 전체 Workflow 보기:\n",
      "      i. 마우스 오버: 전환 화면 아래 작은 워크플로우 이미지에 마우스를 올려놓으면 큰 이미지 생성\n",
      "\n",
      "   e. 편집/삭제:\n",
      "      i. 편집: 검색된 액션에 대해 '편집' 선택 시 \"편집\" 화면 표시\n",
      "      ii. 저장 후 새로고침, 드래프트 저장\n",
      "\n",
      "   f. 상태 생성: 버튼 위치는 전환 영역 상단\n",
      "      i. DoTo + Inprogress + done에 따라 상태 생성하는 화면 연계하여 진행\n",
      "\n",
      "   g. 전환 생성:\n",
      "      i. \"From\", \"To\"로 상태 입력할 수 있는 화면으로 이동 후 전환 적용 가능\n",
      "      ii. 화면 추가 가능\n",
      "\n",
      "이 정보가 Jira Workflow Action Handler 플러그인에 대해 이해하는 데 도움이 되길 바랍니다! 궁금한 점이 더 있으시면 알려주세요.\n"
     ]
    }
   ],
   "source": [
    "print(result)\n",
    "print(type (result) )\n",
    "print([  item.metadata for item in result['source_documents'] ])\n",
    "print(result['result'])"
   ]
  }
 ],
 "metadata": {
  "kernelspec": {
   "display_name": ".venv",
   "language": "python",
   "name": "python3"
  },
  "language_info": {
   "codemirror_mode": {
    "name": "ipython",
    "version": 3
   },
   "file_extension": ".py",
   "mimetype": "text/x-python",
   "name": "python",
   "nbconvert_exporter": "python",
   "pygments_lexer": "ipython3",
   "version": "3.12.7"
  }
 },
 "nbformat": 4,
 "nbformat_minor": 2
}
