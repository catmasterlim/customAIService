{
 "cells": [
  {
   "cell_type": "code",
   "execution_count": null,
   "metadata": {},
   "outputs": [],
   "source": [
    "!pip install -U tavily-python\n",
    "!pip install -U wikipedia\n"
   ]
  },
  {
   "cell_type": "markdown",
   "metadata": {},
   "source": [
    "## wikipedia retriever"
   ]
  },
  {
   "cell_type": "code",
   "execution_count": 2,
   "metadata": {},
   "outputs": [
    {
     "name": "stdout",
     "output_type": "stream",
     "text": [
      "🕒 현재 시간: 2024-11-28 17:18:25\n",
      "Seoul, officially Seoul Special Metropolitan City, is the capital and largest city of South Korea. The broader Seoul Capital Area, encompassing Gyeonggi Province and Incheon, emerged as the world's sixth largest metropolitan economy in 2022, trailing behind Paris, San Francisco, Los Angeles, Tokyo, and New York, and hosts more than half of South Korea's population. Although Seoul's population peak\n",
      "⏳ 실행 시간: 14.30초\n"
     ]
    }
   ],
   "source": [
    "from langchain_community.retrievers import WikipediaRetriever\n",
    "retriever = WikipediaRetriever()\n",
    "\n",
    "docs = retriever.invoke(\"서울\")\n",
    "print(docs[0].page_content[:400])\n"
   ]
  },
  {
   "cell_type": "markdown",
   "metadata": {},
   "source": [
    "## 검색 - TavilySearchAPIRetriever\n",
    "[tavily](https://app.tavily.com/home)\n",
    "\n",
    "- TAVILY_API_KEY 설정(.env)"
   ]
  },
  {
   "cell_type": "code",
   "execution_count": null,
   "metadata": {},
   "outputs": [],
   "source": [
    "# 환경 변수 \n",
    "from dotenv import load_dotenv\n",
    "load_dotenv()"
   ]
  },
  {
   "cell_type": "code",
   "execution_count": null,
   "metadata": {},
   "outputs": [],
   "source": [
    "from langchain_community.retrievers import TavilySearchAPIRetriever\n",
    "\n",
    "retriever = TavilySearchAPIRetriever(k=3)\n",
    "query = \"서울?\"\n",
    "retriever.invoke(query)"
   ]
  }
 ],
 "metadata": {
  "kernelspec": {
   "display_name": ".venv",
   "language": "python",
   "name": "python3"
  },
  "language_info": {
   "codemirror_mode": {
    "name": "ipython",
    "version": 3
   },
   "file_extension": ".py",
   "mimetype": "text/x-python",
   "name": "python",
   "nbconvert_exporter": "python",
   "pygments_lexer": "ipython3",
   "version": "3.12.7"
  }
 },
 "nbformat": 4,
 "nbformat_minor": 2
}
